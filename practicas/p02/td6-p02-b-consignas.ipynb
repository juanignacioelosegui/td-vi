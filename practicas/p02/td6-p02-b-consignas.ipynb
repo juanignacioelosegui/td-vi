{
 "cells": [
  {
   "cell_type": "markdown",
   "metadata": {},
   "source": [
    "Universidad Torcuato Di Tella\n",
    "\n",
    "Licenciatura en Tecnología Digital\\\n",
    "**Tecnología Digital VI: Inteligencia Artificial**"
   ]
  },
  {
   "cell_type": "markdown",
   "metadata": {},
   "source": [
    "# **Taller de análisis de datos**"
   ]
  },
  {
   "cell_type": "markdown",
   "metadata": {},
   "source": [
    "Resolver las siguientes consignas."
   ]
  },
  {
   "cell_type": "markdown",
   "metadata": {},
   "source": [
    "### **Consigna 01**\n",
    "\n",
    "> En un *data frame* llamado `vuelos`, cargar los datos que se encuentran en el archivo `td6-p02-c-datos-vuelos.txt`, disponible en el Campus Virtual, y observarlos."
   ]
  },
  {
   "cell_type": "code",
   "execution_count": null,
   "metadata": {},
   "outputs": [],
   "source": [
    "import pandas as pd\n",
    "\n",
    "# Cargar el archivo en un data frame\n",
    "# Parámetros: archivo y el separador\n",
    "vuelos = pd.read_csv('td6-p02-c-datos-vuelos.txt', sep=';')"
   ]
  },
  {
   "cell_type": "markdown",
   "metadata": {},
   "source": [
    "### **Consigna 02**\n",
    "\n",
    "> ¿Datos de cuántos vuelos tiene el data frame `vuelos`?"
   ]
  },
  {
   "cell_type": "code",
   "execution_count": 3,
   "metadata": {},
   "outputs": [
    {
     "name": "stdout",
     "output_type": "stream",
     "text": [
      "3318080\n"
     ]
    }
   ],
   "source": [
    "num_vuelos = vuelos.shape[0]\n",
    "print(num_vuelos)"
   ]
  },
  {
   "cell_type": "markdown",
   "metadata": {},
   "source": [
    "### **Consigna 03**\n",
    "\n",
    "> ¿Cuántas columnas tiene el data frame `vuelos`?"
   ]
  },
  {
   "cell_type": "code",
   "execution_count": 18,
   "metadata": {},
   "outputs": [
    {
     "name": "stdout",
     "output_type": "stream",
     "text": [
      "28\n"
     ]
    }
   ],
   "source": [
    "num_columnas = vuelos.shape[1]\n",
    "print(num_columnas)\n",
    "\n",
    "# pregunta: cuál es la diferencia del índice?\n",
    "# son las columnas, no las filas"
   ]
  },
  {
   "cell_type": "markdown",
   "metadata": {},
   "source": [
    "### **Consigna 04**\n",
    "\n",
    "> Considerar un vuelo como demorado si el valor de `ArrDelay` es superior a 20 min. Teniendo esto en cuenta,\n",
    ">\n",
    "> * ¿qué aerolínea (*tip*: aprovechar el diccionario de variables e Internet) tiene la mayor proporción de vuelos demorados?\n",
    ">\n",
    "> * Y, ¿en qué aeropuerto de destino es más común (en términos relativos) que haya demoras en el arribo?\n",
    ">\n",
    "> *Tip*: qué significa cada código lo pueden encontrar en la siguiente página: https://www.iata.org/en/publications/directories/code-search/."
   ]
  },
  {
   "cell_type": "code",
   "execution_count": 16,
   "metadata": {},
   "outputs": [
    {
     "data": {
      "text/plain": [
       "UniqueCarrier\n",
       "AA    0.220650\n",
       "MQ    0.191959\n",
       "OO    0.149205\n",
       "US    0.141364\n",
       "WN    0.144385\n",
       "Name: count, dtype: float64"
      ]
     },
     "execution_count": 16,
     "metadata": {},
     "output_type": "execute_result"
    }
   ],
   "source": [
    "vuelos_demorados = vuelos[vuelos[\"ArrDelay\"] > 20]\n",
    "vuelos_demorados[\"UniqueCarrier\"].value_counts()/vuelos[\"UniqueCarrier\"].value_counts()"
   ]
  },
  {
   "cell_type": "markdown",
   "metadata": {},
   "source": [
    "**Respuesta**: AA."
   ]
  },
  {
   "cell_type": "code",
   "execution_count": 17,
   "metadata": {},
   "outputs": [
    {
     "data": {
      "text/plain": [
       "Dest\n",
       "OTH    0.365571\n",
       "EGE    0.356979\n",
       "GUC    0.333333\n",
       "MQT    0.326284\n",
       "EWR    0.310471\n",
       "         ...   \n",
       "WYS    0.060606\n",
       "BLI    0.057851\n",
       "IYK    0.040881\n",
       "CYS         NaN\n",
       "OGD         NaN\n",
       "Name: count, Length: 230, dtype: float64"
      ]
     },
     "execution_count": 17,
     "metadata": {},
     "output_type": "execute_result"
    }
   ],
   "source": [
    "dest_demorados = vuelos_demorados[\"Dest\"].value_counts()/vuelos[\"Dest\"].value_counts()\n",
    "dest_demorados.sort_values(ascending=False)"
   ]
  },
  {
   "cell_type": "markdown",
   "metadata": {},
   "source": [
    "**Respuesta**: OTH."
   ]
  },
  {
   "cell_type": "markdown",
   "metadata": {},
   "source": [
    "### **Consigna 05**\n",
    "\n",
    "> ¿Es más o menos común que haya vuelos demorados los fines de semana respecto a los días de semana?"
   ]
  },
  {
   "cell_type": "code",
   "execution_count": null,
   "metadata": {},
   "outputs": [],
   "source": [
    "demorados = vuelos[vuelos[\"ArrDelay\"] > 20]\n",
    "demorados[\"weekend\"] = (vuelos[\"DayOfWeek\"] == 6) | (vuelos[\"DayOfWeek\"] == 7)\n",
    "\n",
    "cant_vuelos = vuelos.copy()\n",
    "cant_vuelos[\"weekend\"] = (vuelos[\"DayOfWeek\"] == 6) | (vuelos[\"DayOfWeek\"] == 7)\n",
    "\n",
    "semana_proporciones = pd.merge(demorados[\"weekend\"].value_counts(), cant_vuelos[\"weekend\"].value_counts())\n"
   ]
  },
  {
   "cell_type": "markdown",
   "metadata": {},
   "source": [
    "**Respuesta**: COMPLETAR."
   ]
  },
  {
   "cell_type": "markdown",
   "metadata": {},
   "source": [
    "### **Consigna 06**\n",
    "\n",
    "> Para los casos en que hay minutos de demora debido al clima, ¿cuál es la duración promedio de esas demoras? *Tip*: piensen si, para resolver esta consigna, tiene o no sentido considerar los ceros."
   ]
  },
  {
   "cell_type": "code",
   "execution_count": 19,
   "metadata": {},
   "outputs": [
    {
     "data": {
      "text/plain": [
       "WeatherDelay    41.220588\n",
       "dtype: float64"
      ]
     },
     "execution_count": 19,
     "metadata": {},
     "output_type": "execute_result"
    }
   ],
   "source": [
    "vuelos[vuelos[\"WeatherDelay\"] > 0][[\"WeatherDelay\"]].mean()"
   ]
  },
  {
   "cell_type": "markdown",
   "metadata": {},
   "source": [
    "**Respuesta**: 41.220588"
   ]
  },
  {
   "cell_type": "markdown",
   "metadata": {},
   "source": [
    "### **Consigna 07**\n",
    "\n",
    "> * ¿Cuáles son el número de vuelo, el origen y el destino correspondientes al vuelo más largo, en términos de tiempo, que se registra en los datos?\n",
    ">\n",
    "> * ¿Cuál es la duración, en horas, de dicho vuelo?"
   ]
  },
  {
   "cell_type": "code",
   "execution_count": 20,
   "metadata": {},
   "outputs": [
    {
     "data": {
      "text/plain": [
       "Index(['Year', 'Month', 'DayofMonth', 'DayOfWeek', 'DepTime', 'CRSDepTime',\n",
       "       'ArrTime', 'CRSArrTime', 'UniqueCarrier', 'FlightNum', 'TailNum',\n",
       "       'ActualElapsedTime', 'CRSElapsedTime', 'AirTime', 'ArrDelay',\n",
       "       'DepDelay', 'Origin', 'Dest', 'TaxiIn', 'TaxiOut', 'Cancelled',\n",
       "       'CancellationCode', 'Diverted', 'CarrierDelay', 'WeatherDelay',\n",
       "       'NASDelay', 'SecurityDelay', 'LateAircraftDelay'],\n",
       "      dtype='object')"
      ]
     },
     "execution_count": 20,
     "metadata": {},
     "output_type": "execute_result"
    }
   ],
   "source": [
    "vuelos.columns"
   ]
  },
  {
   "cell_type": "markdown",
   "metadata": {},
   "source": [
    "**Respuesta**: COMPLETAR."
   ]
  },
  {
   "cell_type": "code",
   "execution_count": null,
   "metadata": {},
   "outputs": [],
   "source": [
    "vuelos[vuelos[\"ActualElapsedTime\"] == max(vuelos[\"ActualElapsedTime\"])]"
   ]
  },
  {
   "cell_type": "markdown",
   "metadata": {},
   "source": [
    "**Respuesta**: COMPLETAR."
   ]
  },
  {
   "cell_type": "markdown",
   "metadata": {},
   "source": [
    "### **Consigna 08**\n",
    "\n",
    "> ¿Cuál es la cantidad de vuelos que se realiza para cada combinación origen-destino? *Tip*: guardar esta información porque es necesaria para resolver la siguiente consigna."
   ]
  },
  {
   "cell_type": "code",
   "execution_count": null,
   "metadata": {},
   "outputs": [],
   "source": [
    "cant_vuelos_origen_destino = pd.crosstab(vuelos[\"Origin\"], vuelos[\"Dest\"])\n",
    "cant_vuelos_origen_destino"
   ]
  },
  {
   "cell_type": "markdown",
   "metadata": {},
   "source": [
    "**Respuesta**: COMPLETAR."
   ]
  },
  {
   "cell_type": "markdown",
   "metadata": {},
   "source": [
    "### **Consigna 09**\n",
    "\n",
    "> ¿Cuál es el tramo origen-destino para el que se hicieron más vuelos? *Tip*: guardar también esta información porque es necesaria para resolver la siguiente consigna."
   ]
  },
  {
   "cell_type": "code",
   "execution_count": null,
   "metadata": {},
   "outputs": [],
   "source": [
    "# axis es la columna a la cual se le aplica max()\n",
    "cant_vuelos_origen_destino.max(axis = 1).max()\n",
    "print(cant_vuelos_origen_destino.max(axis = 0).idxmax()) # Axis = 0 -> columna (Destino)\n",
    "print(cant_vuelos_origen_destino.max(axis = 1).idxmax()) # Axis = 1 -> fila (Origen)"
   ]
  },
  {
   "cell_type": "markdown",
   "metadata": {},
   "source": [
    "**Respuesta**: COMPLETAR."
   ]
  },
  {
   "cell_type": "markdown",
   "metadata": {},
   "source": [
    "### **Consigna 10**\n",
    "\n",
    "> * Considerando los vuelos correspondientes al tramo más frecuente y que no fueron cancelados, realizar un diagrama de cajas que permita ver la distribución de la duración de los vuelos.\n",
    ">\n",
    "> * Una vez hecho el diagrama, ¿a qué consideran que pueden deberse los valores extremos que se visualizan en él?"
   ]
  },
  {
   "cell_type": "code",
   "execution_count": null,
   "metadata": {},
   "outputs": [],
   "source": [
    "diagrama_cajas_datos = vuelos.loc[(vuelos[\"Origin\"] == tramo)]"
   ]
  },
  {
   "cell_type": "markdown",
   "metadata": {},
   "source": [
    "**Respuesta**: COMPLETAR."
   ]
  },
  {
   "cell_type": "markdown",
   "metadata": {},
   "source": [
    "### **Consigna 11**\n",
    "\n",
    "> Hacer una figura que permita ver si la distribución de la duración de los vuelos considerados en la consigna anterior varía o no en función de si ocurre un día o de semana o de fin de semana y comentarla."
   ]
  },
  {
   "cell_type": "code",
   "execution_count": null,
   "metadata": {},
   "outputs": [],
   "source": [
    "plt.ioff()\n",
    "diagrama_cajas_datos.boxplot(column = )"
   ]
  },
  {
   "cell_type": "markdown",
   "metadata": {},
   "source": [
    "**Respuesta**: COMPLETAR."
   ]
  },
  {
   "cell_type": "markdown",
   "metadata": {},
   "source": [
    "### **Consigna 12**\n",
    "\n",
    "> Hacer una figura que permita ver, por mes, cuántos vuelos tienen demora en la salida y cuántos, en el arribo y comentarla."
   ]
  },
  {
   "cell_type": "code",
   "execution_count": null,
   "metadata": {},
   "outputs": [],
   "source": [
    "# COMPLETAR."
   ]
  },
  {
   "cell_type": "markdown",
   "metadata": {},
   "source": [
    "**Respuesta**: COMPLETAR."
   ]
  }
 ],
 "metadata": {
  "kernelspec": {
   "display_name": "td-vi",
   "language": "python",
   "name": "python3"
  },
  "language_info": {
   "codemirror_mode": {
    "name": "ipython",
    "version": 3
   },
   "file_extension": ".py",
   "mimetype": "text/x-python",
   "name": "python",
   "nbconvert_exporter": "python",
   "pygments_lexer": "ipython3",
   "version": "3.13.5"
  },
  "orig_nbformat": 4
 },
 "nbformat": 4,
 "nbformat_minor": 2
}
