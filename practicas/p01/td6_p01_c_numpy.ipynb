{
  "cells": [
    {
      "cell_type": "markdown",
      "metadata": {
        "id": "xb6rBOPuwVtv"
      },
      "source": [
        "Universidad Torcuato Di Tella\n",
        "\n",
        "Licenciatura en Tecnología Digital\\\n",
        "**Tecnología Digital VI: Inteligencia Artificial**"
      ]
    },
    {
      "cell_type": "markdown",
      "metadata": {
        "id": "T7O1PMEHwVt5"
      },
      "source": [
        "# **NumPy**"
      ]
    },
    {
      "cell_type": "markdown",
      "metadata": {
        "id": "M3wpmYuNwVt8"
      },
      "source": [
        "Ante todo, seleccionar el kernel. Por ejemplo, el asociado a Anaconda."
      ]
    },
    {
      "cell_type": "markdown",
      "metadata": {
        "id": "1b_O15MKwVuA"
      },
      "source": [
        "Por convención, el alias elegido para NumPy es `np`."
      ]
    },
    {
      "cell_type": "code",
      "execution_count": 2,
      "metadata": {
        "id": "suVzqJmgwVuE"
      },
      "outputs": [],
      "source": [
        "import numpy as np"
      ]
    },
    {
      "cell_type": "markdown",
      "metadata": {
        "id": "cZ_4Lf0FwVuN"
      },
      "source": [
        "Al seguir un libro, un tutorial o similar, por las dudas, chequear si la versión utilizada es la misma."
      ]
    },
    {
      "cell_type": "code",
      "execution_count": 3,
      "metadata": {
        "colab": {
          "base_uri": "https://localhost:8080/",
          "height": 35
        },
        "id": "LdF6-cYKwVuP",
        "outputId": "07d43210-a6be-4bff-ac31-ee54da9cf7aa"
      },
      "outputs": [
        {
          "output_type": "execute_result",
          "data": {
            "text/plain": [
              "'2.0.2'"
            ],
            "application/vnd.google.colaboratory.intrinsic+json": {
              "type": "string"
            }
          },
          "metadata": {},
          "execution_count": 3
        }
      ],
      "source": [
        "np.__version__"
      ]
    },
    {
      "cell_type": "markdown",
      "metadata": {
        "id": "D4vuGZBfwVuS"
      },
      "source": [
        "Por ejemplo, la versión que se usa en el libro de VanderPlas, citado en las diapositivas, es un poco anterior: '1.21.2' (p. 34)."
      ]
    },
    {
      "cell_type": "markdown",
      "metadata": {
        "id": "NL5JSyx7wVuT"
      },
      "source": [
        "### **Creación de matrices**"
      ]
    },
    {
      "cell_type": "markdown",
      "metadata": {
        "id": "qhHQH7dJwVuV"
      },
      "source": [
        "##### **A partir de una lista**"
      ]
    },
    {
      "cell_type": "code",
      "execution_count": 4,
      "metadata": {
        "colab": {
          "base_uri": "https://localhost:8080/"
        },
        "id": "9aDKsBjLwVuV",
        "outputId": "f35bd7f8-1b6b-4731-955e-ad0d8b628494"
      },
      "outputs": [
        {
          "output_type": "execute_result",
          "data": {
            "text/plain": [
              "array([1, 2, 3, 4])"
            ]
          },
          "metadata": {},
          "execution_count": 4
        }
      ],
      "source": [
        "np.array([1, 2, 3, 4])"
      ]
    },
    {
      "cell_type": "markdown",
      "source": [
        "#### **Listas vs arrays**"
      ],
      "metadata": {
        "id": "d3eTphlm-ZPA"
      }
    },
    {
      "cell_type": "code",
      "source": [
        "lista = [1, 2, 3, 4]\n",
        "array = np.array(lista)\n",
        "lis = list(array)"
      ],
      "metadata": {
        "id": "JXBDbUvP-bIo"
      },
      "execution_count": 5,
      "outputs": []
    },
    {
      "cell_type": "code",
      "source": [
        "lista + 5"
      ],
      "metadata": {
        "id": "9iudynWB-ja5"
      },
      "execution_count": null,
      "outputs": []
    },
    {
      "cell_type": "code",
      "source": [
        "lista + [5]"
      ],
      "metadata": {
        "id": "H-UHBt0E-kXR"
      },
      "execution_count": null,
      "outputs": []
    },
    {
      "cell_type": "code",
      "source": [
        "lista * 5"
      ],
      "metadata": {
        "id": "2HILDdA0-mWV"
      },
      "execution_count": null,
      "outputs": []
    },
    {
      "cell_type": "code",
      "source": [
        "array+5"
      ],
      "metadata": {
        "id": "myb-1qgj-mte"
      },
      "execution_count": null,
      "outputs": []
    },
    {
      "cell_type": "code",
      "source": [
        "array*5"
      ],
      "metadata": {
        "id": "kyq3PRZa-n7R"
      },
      "execution_count": null,
      "outputs": []
    },
    {
      "cell_type": "markdown",
      "metadata": {
        "id": "YJe_lB38wVuW"
      },
      "source": [
        "##### **Tipos**"
      ]
    },
    {
      "cell_type": "markdown",
      "metadata": {
        "id": "rNInkIMDwVuX"
      },
      "source": [
        "A diferencia de las listas de Python, las matrices de NumPy pueden contener datos de **un sólo tipo**. Si los tipos no coinciden, NumPy hace *upcast*; por ejemplo, a los valores de tipo `integer` los transforma en `float`, como en el caso siguiente."
      ]
    },
    {
      "cell_type": "code",
      "execution_count": 6,
      "metadata": {
        "colab": {
          "base_uri": "https://localhost:8080/"
        },
        "id": "-YIWY8q4wVuX",
        "outputId": "ff9fc844-ef30-4a5e-f7d7-17dd045884b0"
      },
      "outputs": [
        {
          "output_type": "execute_result",
          "data": {
            "text/plain": [
              "array([1.5, 2. , 3. , 4. ])"
            ]
          },
          "metadata": {},
          "execution_count": 6
        }
      ],
      "source": [
        "np.array([1.5, 2, 3, 4])"
      ]
    },
    {
      "cell_type": "markdown",
      "metadata": {
        "id": "mI9lLAVkwVub"
      },
      "source": [
        "Podemos explicitar el tipo de la matriz resultante mediante el parámetro `dtype`."
      ]
    },
    {
      "cell_type": "code",
      "execution_count": 7,
      "metadata": {
        "colab": {
          "base_uri": "https://localhost:8080/"
        },
        "id": "X8jeh7yawVub",
        "outputId": "1a36e580-b665-42ee-d626-2a17810023cb"
      },
      "outputs": [
        {
          "output_type": "execute_result",
          "data": {
            "text/plain": [
              "array([1., 2., 3., 4.], dtype=float32)"
            ]
          },
          "metadata": {},
          "execution_count": 7
        }
      ],
      "source": [
        "np.array([1, 2, 3, 4], dtype = np.float32)"
      ]
    },
    {
      "cell_type": "markdown",
      "metadata": {
        "id": "NUUhFt-QwVuc"
      },
      "source": [
        "##### **Dimensiones**"
      ]
    },
    {
      "cell_type": "markdown",
      "metadata": {
        "id": "1O6aoo8ZwVuc"
      },
      "source": [
        "Las listas de Python son unidimensionales. En cambio, las matrices de NumPy pueden ser **multidimensionales**. Por ejemplo, listas anidadas resultan en matrices multidimensionales, como en el caso siguiente."
      ]
    },
    {
      "cell_type": "code",
      "execution_count": 8,
      "metadata": {
        "colab": {
          "base_uri": "https://localhost:8080/"
        },
        "id": "ux_65ESLwVud",
        "outputId": "187254c5-8c72-49c5-d078-06782cfdbe5f"
      },
      "outputs": [
        {
          "output_type": "execute_result",
          "data": {
            "text/plain": [
              "array([[2, 3, 4],\n",
              "       [4, 5, 6],\n",
              "       [6, 7, 8]])"
            ]
          },
          "metadata": {},
          "execution_count": 8
        }
      ],
      "source": [
        "np.array([range(i, i + 3) for i in [2, 4, 6]])"
      ]
    },
    {
      "cell_type": "markdown",
      "metadata": {
        "id": "ptswhXpywVud"
      },
      "source": [
        "##### **Desde cero**"
      ]
    },
    {
      "cell_type": "markdown",
      "metadata": {
        "id": "H74slSIFwVuf"
      },
      "source": [
        "A continuación, se muestran diferentes formas de crear matrices desde cero (es decir, no a partir de una lista como veníamos haciendo), empleando:\n",
        "* `np.zeros`,\n",
        "* `np.ones`,\n",
        "* `np.full`,\n",
        "* `np.arrange`,\n",
        "* `np.linspace`,\n",
        "* `np.random.random`,\n",
        "* `np.random.normal`,\n",
        "* `np.random.randint`,\n",
        "* `np.eye` y\n",
        "* `np.empty`."
      ]
    },
    {
      "cell_type": "code",
      "execution_count": 9,
      "metadata": {
        "colab": {
          "base_uri": "https://localhost:8080/"
        },
        "id": "4Q-Bh7TywVuj",
        "outputId": "81f7a2a0-b93d-4089-9847-0f543685ca22"
      },
      "outputs": [
        {
          "output_type": "execute_result",
          "data": {
            "text/plain": [
              "array([0, 0, 0, 0, 0, 0, 0, 0, 0, 0])"
            ]
          },
          "metadata": {},
          "execution_count": 9
        }
      ],
      "source": [
        "# Creación de una matriz de largo 10 llena de 0s de tipo int.\n",
        "np.zeros(10, dtype = int)"
      ]
    },
    {
      "cell_type": "code",
      "execution_count": 10,
      "metadata": {
        "colab": {
          "base_uri": "https://localhost:8080/"
        },
        "id": "VS4fvnTDwVuk",
        "outputId": "e05a5631-d9d0-4598-846d-5198afd3929c"
      },
      "outputs": [
        {
          "output_type": "execute_result",
          "data": {
            "text/plain": [
              "array([[1., 1., 1., 1., 1.],\n",
              "       [1., 1., 1., 1., 1.],\n",
              "       [1., 1., 1., 1., 1.]])"
            ]
          },
          "metadata": {},
          "execution_count": 10
        }
      ],
      "source": [
        "# Creación de una matriz de 3x5 llena de 1s de tipo float.\n",
        "np.ones((3, 5), dtype = float)"
      ]
    },
    {
      "cell_type": "code",
      "execution_count": 11,
      "metadata": {
        "colab": {
          "base_uri": "https://localhost:8080/"
        },
        "id": "_SPoU3pMwVum",
        "outputId": "75059144-a7cf-494e-830d-9db9bcc75e5e"
      },
      "outputs": [
        {
          "output_type": "execute_result",
          "data": {
            "text/plain": [
              "array([[3.14, 3.14, 3.14, 3.14, 3.14],\n",
              "       [3.14, 3.14, 3.14, 3.14, 3.14],\n",
              "       [3.14, 3.14, 3.14, 3.14, 3.14]])"
            ]
          },
          "metadata": {},
          "execution_count": 11
        }
      ],
      "source": [
        "# Creación de una matriz de 3x5 llena de 3,14 (de tipo float).\n",
        "np.full((3, 5), 3.14)"
      ]
    },
    {
      "cell_type": "code",
      "execution_count": 12,
      "metadata": {
        "colab": {
          "base_uri": "https://localhost:8080/"
        },
        "id": "A1LjylPLwVuv",
        "outputId": "7e30bc3e-3f9a-41df-d3c3-5c667a534897"
      },
      "outputs": [
        {
          "output_type": "execute_result",
          "data": {
            "text/plain": [
              "array([ 0,  2,  4,  6,  8, 10, 12, 14, 16, 18])"
            ]
          },
          "metadata": {},
          "execution_count": 12
        }
      ],
      "source": [
        "# Creación de una matriz que replica el resultado de list(range(0, 20, 2)).\n",
        "np.arange(0, 20, 2)"
      ]
    },
    {
      "cell_type": "code",
      "execution_count": 13,
      "metadata": {
        "colab": {
          "base_uri": "https://localhost:8080/"
        },
        "id": "vDq_nPIlwVuy",
        "outputId": "febc7436-e80d-4bd5-e711-04891af96383"
      },
      "outputs": [
        {
          "output_type": "execute_result",
          "data": {
            "text/plain": [
              "array([0.  , 0.25, 0.5 , 0.75, 1.  ])"
            ]
          },
          "metadata": {},
          "execution_count": 13
        }
      ],
      "source": [
        "# Creación de una matriz de 5 valores distribuidos uniformemente entre 0 y 1.\n",
        "np.linspace(0, 1, 5)"
      ]
    },
    {
      "cell_type": "code",
      "execution_count": 14,
      "metadata": {
        "colab": {
          "base_uri": "https://localhost:8080/"
        },
        "id": "R6aEI29awVu_",
        "outputId": "890a881f-052d-4d4b-ead6-a62ef0ed8ae7"
      },
      "outputs": [
        {
          "output_type": "execute_result",
          "data": {
            "text/plain": [
              "array([[0.63852678, 0.59495854, 0.04176511],\n",
              "       [0.52115257, 0.81023897, 0.72866211],\n",
              "       [0.90381672, 0.27804418, 0.9440439 ]])"
            ]
          },
          "metadata": {},
          "execution_count": 14
        }
      ],
      "source": [
        "# Creación de una matriz de 3x3 llena de valores pseudoaleatorios distribuidos\n",
        "# uniformemente entre 0 y 1.\n",
        "np.random.random((3, 3))"
      ]
    },
    {
      "cell_type": "code",
      "execution_count": 15,
      "metadata": {
        "colab": {
          "base_uri": "https://localhost:8080/"
        },
        "id": "6aqutmxqwVvA",
        "outputId": "b23f433c-db16-4dbe-b932-220072994427"
      },
      "outputs": [
        {
          "output_type": "execute_result",
          "data": {
            "text/plain": [
              "array([[ 0.57676378,  0.18346921,  0.31102419],\n",
              "       [ 0.57643548,  0.13120573, -0.68051537],\n",
              "       [ 0.50750682,  0.20402251,  0.60033065]])"
            ]
          },
          "metadata": {},
          "execution_count": 15
        }
      ],
      "source": [
        "# Creación de una matriz de 3x3 llena de valores pseudoaleatorios distribuidos\n",
        "# normalmente con media 0 y desvío estándar 1.\n",
        "np.random.normal(0, 1, (3, 3))"
      ]
    },
    {
      "cell_type": "code",
      "execution_count": 16,
      "metadata": {
        "colab": {
          "base_uri": "https://localhost:8080/"
        },
        "id": "Vw2B19cOwVvB",
        "outputId": "f421f636-95f4-43b4-981d-a6a97e2ccb3a"
      },
      "outputs": [
        {
          "output_type": "execute_result",
          "data": {
            "text/plain": [
              "array([[2, 2, 1],\n",
              "       [8, 5, 8],\n",
              "       [1, 7, 8]])"
            ]
          },
          "metadata": {},
          "execution_count": 16
        }
      ],
      "source": [
        "# Creación de una matriz de 3x3 llena de enteros pseudoaleatorios en el\n",
        "# intervalo [0, 10).\n",
        "np.random.randint(0, 10, (3, 3))"
      ]
    },
    {
      "cell_type": "code",
      "execution_count": 17,
      "metadata": {
        "colab": {
          "base_uri": "https://localhost:8080/"
        },
        "id": "S5glNc6ewVvB",
        "outputId": "a2fc4081-16b8-4218-d4d2-496a29a68908"
      },
      "outputs": [
        {
          "output_type": "execute_result",
          "data": {
            "text/plain": [
              "array([[1., 0., 0.],\n",
              "       [0., 1., 0.],\n",
              "       [0., 0., 1.]])"
            ]
          },
          "metadata": {},
          "execution_count": 17
        }
      ],
      "source": [
        "# Creación de una matriz de identidad de 3x3.\n",
        "np.eye(3)"
      ]
    },
    {
      "cell_type": "code",
      "execution_count": 18,
      "metadata": {
        "colab": {
          "base_uri": "https://localhost:8080/"
        },
        "id": "dzMMlmO4wVvC",
        "outputId": "6ec68c8b-da9c-492f-94f0-2d975e52c070"
      },
      "outputs": [
        {
          "output_type": "execute_result",
          "data": {
            "text/plain": [
              "array([1., 1., 1.])"
            ]
          },
          "metadata": {},
          "execution_count": 18
        }
      ],
      "source": [
        "# Creación de una matriz no-inicializada de 3 enteros. Los valores serán lo que\n",
        "# sea que ya existe en esa ubicación de la memoria.\n",
        "np.empty(3)"
      ]
    },
    {
      "cell_type": "markdown",
      "metadata": {
        "id": "en57qSFHwVvC"
      },
      "source": [
        "### **Atributos de matrices**"
      ]
    },
    {
      "cell_type": "code",
      "execution_count": 19,
      "metadata": {
        "colab": {
          "base_uri": "https://localhost:8080/"
        },
        "id": "ecYXDSwHwVvD",
        "outputId": "712b18ec-0f05-4f5c-f2c0-2531ec6776a5"
      },
      "outputs": [
        {
          "output_type": "execute_result",
          "data": {
            "text/plain": [
              "array([[2, 3, 4],\n",
              "       [4, 5, 6],\n",
              "       [6, 7, 8]])"
            ]
          },
          "metadata": {},
          "execution_count": 19
        }
      ],
      "source": [
        "matriz = np.array([range(i, i + 3) for i in [2, 4, 6]])\n",
        "matriz"
      ]
    },
    {
      "cell_type": "code",
      "execution_count": 25,
      "metadata": {
        "colab": {
          "base_uri": "https://localhost:8080/"
        },
        "id": "HQTck6GlwVvD",
        "outputId": "16d10d12-54c8-4cbf-ac45-c9b887af3630"
      },
      "outputs": [
        {
          "output_type": "execute_result",
          "data": {
            "text/plain": [
              "2"
            ]
          },
          "metadata": {},
          "execution_count": 25
        }
      ],
      "source": [
        "matriz.ndim # Aclaración: las matrices pueden tener más de 2 dimensiones."
      ]
    },
    {
      "cell_type": "code",
      "execution_count": 26,
      "metadata": {
        "colab": {
          "base_uri": "https://localhost:8080/"
        },
        "id": "83bYgDkmwVvE",
        "outputId": "969e869c-736a-4307-f802-07ea42ce307e"
      },
      "outputs": [
        {
          "output_type": "execute_result",
          "data": {
            "text/plain": [
              "(3, 3)"
            ]
          },
          "metadata": {},
          "execution_count": 26
        }
      ],
      "source": [
        "matriz.shape # Devuelve: (n filas, n columnas, ...)."
      ]
    },
    {
      "cell_type": "code",
      "execution_count": 27,
      "metadata": {
        "colab": {
          "base_uri": "https://localhost:8080/"
        },
        "id": "vxK_wkm3wVvF",
        "outputId": "7c5e35f8-29c3-41e8-c40f-04319c939a06"
      },
      "outputs": [
        {
          "output_type": "execute_result",
          "data": {
            "text/plain": [
              "9"
            ]
          },
          "metadata": {},
          "execution_count": 27
        }
      ],
      "source": [
        "matriz.size # Devuelve: n filas * n columnas * ..."
      ]
    },
    {
      "cell_type": "code",
      "execution_count": 28,
      "metadata": {
        "colab": {
          "base_uri": "https://localhost:8080/"
        },
        "id": "n4ejrkGBwVvF",
        "outputId": "5d1c7afa-982f-4f8f-c911-18712dc38c39"
      },
      "outputs": [
        {
          "output_type": "execute_result",
          "data": {
            "text/plain": [
              "dtype('int64')"
            ]
          },
          "metadata": {},
          "execution_count": 28
        }
      ],
      "source": [
        "matriz.dtype"
      ]
    },
    {
      "cell_type": "markdown",
      "metadata": {
        "id": "Q2rMN-Q-wVvG"
      },
      "source": [
        "### **Acceso a matrices**"
      ]
    },
    {
      "cell_type": "markdown",
      "metadata": {
        "id": "oT1CP3cWwVvI"
      },
      "source": [
        "##### **A elementos únicos**"
      ]
    },
    {
      "cell_type": "code",
      "execution_count": null,
      "metadata": {
        "id": "J3c4qIwbwVvS",
        "outputId": "c5a64b54-786b-449a-e23d-fc5418088f36"
      },
      "outputs": [
        {
          "data": {
            "text/plain": [
              "array([[2, 3, 4],\n",
              "       [4, 5, 6],\n",
              "       [6, 7, 8]])"
            ]
          },
          "execution_count": 22,
          "metadata": {},
          "output_type": "execute_result"
        }
      ],
      "source": [
        "matriz"
      ]
    },
    {
      "cell_type": "code",
      "execution_count": null,
      "metadata": {
        "id": "NThcBixawVvT",
        "outputId": "a9877008-d325-4860-b48b-93e9ed767f41"
      },
      "outputs": [
        {
          "data": {
            "text/plain": [
              "2"
            ]
          },
          "execution_count": 23,
          "metadata": {},
          "output_type": "execute_result"
        }
      ],
      "source": [
        "matriz[0, 0]"
      ]
    },
    {
      "cell_type": "code",
      "execution_count": null,
      "metadata": {
        "id": "NTDHssgWwVvU",
        "outputId": "c69a0fc9-ee3d-4843-b9b4-859ee96698ae"
      },
      "outputs": [
        {
          "data": {
            "text/plain": [
              "3"
            ]
          },
          "execution_count": 24,
          "metadata": {},
          "output_type": "execute_result"
        }
      ],
      "source": [
        "matriz[0, 1]"
      ]
    },
    {
      "cell_type": "code",
      "execution_count": null,
      "metadata": {
        "id": "LKP3CRZXwVvU",
        "outputId": "fd92798d-12f6-490a-d849-e6153cc24752"
      },
      "outputs": [
        {
          "data": {
            "text/plain": [
              "5"
            ]
          },
          "execution_count": 25,
          "metadata": {},
          "output_type": "execute_result"
        }
      ],
      "source": [
        "matriz[1, 1]"
      ]
    },
    {
      "cell_type": "code",
      "execution_count": null,
      "metadata": {
        "id": "UNxmuKWnwVvU",
        "outputId": "cf0a6a72-dc2d-4b9e-caac-41e99a368add"
      },
      "outputs": [
        {
          "data": {
            "text/plain": [
              "8"
            ]
          },
          "execution_count": 26,
          "metadata": {},
          "output_type": "execute_result"
        }
      ],
      "source": [
        "matriz[-1, -1]"
      ]
    },
    {
      "cell_type": "markdown",
      "metadata": {
        "id": "D87_s-8kwVvV"
      },
      "source": [
        "##### **A submatrices**"
      ]
    },
    {
      "cell_type": "code",
      "execution_count": null,
      "metadata": {
        "id": "cDIQgl9zwVvV",
        "outputId": "1ecb1587-2400-4cd2-a11c-08a81da3909a"
      },
      "outputs": [
        {
          "data": {
            "text/plain": [
              "array([[2, 3, 4],\n",
              "       [4, 5, 6],\n",
              "       [6, 7, 8]])"
            ]
          },
          "execution_count": 27,
          "metadata": {},
          "output_type": "execute_result"
        }
      ],
      "source": [
        "matriz"
      ]
    },
    {
      "cell_type": "code",
      "execution_count": null,
      "metadata": {
        "id": "HJJT4itRwVvV",
        "outputId": "6932ad91-46de-434a-978a-1355df6ab3da"
      },
      "outputs": [
        {
          "data": {
            "text/plain": [
              "array([[2, 3, 4]])"
            ]
          },
          "execution_count": 28,
          "metadata": {},
          "output_type": "execute_result"
        }
      ],
      "source": [
        "matriz[:1, ] # Devuelve la primera fila."
      ]
    },
    {
      "cell_type": "code",
      "execution_count": null,
      "metadata": {
        "id": "zksguNj4wVvV",
        "outputId": "b630083f-e399-4fb2-8e6d-31884ef54d29"
      },
      "outputs": [
        {
          "data": {
            "text/plain": [
              "array([[2],\n",
              "       [4],\n",
              "       [6]])"
            ]
          },
          "execution_count": 29,
          "metadata": {},
          "output_type": "execute_result"
        }
      ],
      "source": [
        "matriz[:, :1] # Devuelve la primera columna."
      ]
    },
    {
      "cell_type": "code",
      "execution_count": null,
      "metadata": {
        "id": "ePAdvABJwVvW",
        "outputId": "366dded1-c35c-44f3-94fc-cbad4f4da356"
      },
      "outputs": [
        {
          "data": {
            "text/plain": [
              "array([[2, 4],\n",
              "       [4, 6],\n",
              "       [6, 8]])"
            ]
          },
          "execution_count": 30,
          "metadata": {},
          "output_type": "execute_result"
        }
      ],
      "source": [
        "matriz[:, ::2] # Devuelve todas las filas alternando una columna sí y otra no."
      ]
    },
    {
      "cell_type": "markdown",
      "metadata": {
        "id": "KUISDY66wVvW"
      },
      "source": [
        "### **Vistas y copias de matrices**"
      ]
    },
    {
      "cell_type": "markdown",
      "metadata": {
        "id": "RdJSdu7CwVvX"
      },
      "source": [
        "Las \"porciones\" (*slices*) de matrices son vistas, en vez de copias de la matriz original. Entonces, un cambio hecho a la porción también afecta a la original."
      ]
    },
    {
      "cell_type": "code",
      "execution_count": null,
      "metadata": {
        "id": "v5X0gTAQwVvX",
        "outputId": "c4e6053e-25a9-4c30-98cd-84a8e047f10d"
      },
      "outputs": [
        {
          "data": {
            "text/plain": [
              "array([[2, 3, 4],\n",
              "       [4, 5, 6],\n",
              "       [6, 7, 8]])"
            ]
          },
          "execution_count": 31,
          "metadata": {},
          "output_type": "execute_result"
        }
      ],
      "source": [
        "matriz"
      ]
    },
    {
      "cell_type": "code",
      "execution_count": null,
      "metadata": {
        "id": "dkjChaUKwVvX",
        "outputId": "30d00bdd-173c-4944-d53e-29d870d850cf"
      },
      "outputs": [
        {
          "data": {
            "text/plain": [
              "array([[2, 3, 4]])"
            ]
          },
          "execution_count": 32,
          "metadata": {},
          "output_type": "execute_result"
        }
      ],
      "source": [
        "matriz_porcion = matriz[:1, ]\n",
        "matriz_porcion"
      ]
    },
    {
      "cell_type": "code",
      "execution_count": null,
      "metadata": {
        "id": "Op6TMhV2wVvY",
        "outputId": "b666e00b-30ac-4df5-ec27-8fc9f8441c72"
      },
      "outputs": [
        {
          "data": {
            "text/plain": [
              "array([[9, 3, 4]])"
            ]
          },
          "execution_count": 33,
          "metadata": {},
          "output_type": "execute_result"
        }
      ],
      "source": [
        "matriz_porcion[0, 0] = 9\n",
        "matriz_porcion"
      ]
    },
    {
      "cell_type": "code",
      "execution_count": null,
      "metadata": {
        "id": "e40yeq26wVvZ",
        "outputId": "898c2998-4f13-4868-cb1e-5d10764117ba"
      },
      "outputs": [
        {
          "data": {
            "text/plain": [
              "array([[9, 3, 4],\n",
              "       [4, 5, 6],\n",
              "       [6, 7, 8]])"
            ]
          },
          "execution_count": 34,
          "metadata": {},
          "output_type": "execute_result"
        }
      ],
      "source": [
        "matriz"
      ]
    },
    {
      "cell_type": "markdown",
      "metadata": {
        "id": "wndhRE4UwVvZ"
      },
      "source": [
        "Esto lo podemos evitar usando el método `copy`."
      ]
    },
    {
      "cell_type": "code",
      "execution_count": null,
      "metadata": {
        "id": "dJvdhPixwVva",
        "outputId": "679f36dd-d4af-43d2-b41e-3278630cef17"
      },
      "outputs": [
        {
          "data": {
            "text/plain": [
              "array([[2, 3, 4],\n",
              "       [4, 5, 6],\n",
              "       [6, 7, 8]])"
            ]
          },
          "execution_count": 35,
          "metadata": {},
          "output_type": "execute_result"
        }
      ],
      "source": [
        "matriz = np.array([range(i, i + 3) for i in [2, 4, 6]])\n",
        "matriz"
      ]
    },
    {
      "cell_type": "code",
      "execution_count": null,
      "metadata": {
        "id": "GE3BdIuUwVvb",
        "outputId": "50f0f323-04e3-4068-ff91-89232451119c"
      },
      "outputs": [
        {
          "data": {
            "text/plain": [
              "array([[2, 3, 4]])"
            ]
          },
          "execution_count": 36,
          "metadata": {},
          "output_type": "execute_result"
        }
      ],
      "source": [
        "matriz_porcion = matriz[:1, ].copy()\n",
        "matriz_porcion"
      ]
    },
    {
      "cell_type": "code",
      "execution_count": null,
      "metadata": {
        "id": "hvUu-PaAwVvd",
        "outputId": "541d205c-3a4e-47da-a479-22e0e6bb7a30"
      },
      "outputs": [
        {
          "data": {
            "text/plain": [
              "array([[9, 3, 4]])"
            ]
          },
          "execution_count": 37,
          "metadata": {},
          "output_type": "execute_result"
        }
      ],
      "source": [
        "matriz_porcion[0, 0] = 9\n",
        "matriz_porcion"
      ]
    },
    {
      "cell_type": "code",
      "execution_count": null,
      "metadata": {
        "id": "s3Co2QEDwVve",
        "outputId": "51f4cfb9-9c8d-41ca-ceec-840f7bc115ae"
      },
      "outputs": [
        {
          "data": {
            "text/plain": [
              "array([[2, 3, 4],\n",
              "       [4, 5, 6],\n",
              "       [6, 7, 8]])"
            ]
          },
          "execution_count": 38,
          "metadata": {},
          "output_type": "execute_result"
        }
      ],
      "source": [
        "matriz"
      ]
    },
    {
      "cell_type": "markdown",
      "metadata": {
        "id": "JZW7Qz86wVvf"
      },
      "source": [
        "### **Reorganización de matrices**"
      ]
    },
    {
      "cell_type": "code",
      "execution_count": null,
      "metadata": {
        "id": "o-x_TiNMwVvf",
        "outputId": "a3dcb58a-9640-4138-9fd5-1de9b6eeeca6"
      },
      "outputs": [
        {
          "data": {
            "text/plain": [
              "array([[9, 3, 4]])"
            ]
          },
          "execution_count": 39,
          "metadata": {},
          "output_type": "execute_result"
        }
      ],
      "source": [
        "matriz_porcion"
      ]
    },
    {
      "cell_type": "code",
      "execution_count": null,
      "metadata": {
        "id": "QnOQR1qhwVvf",
        "outputId": "2ea7dab9-a14e-4648-8dd4-4a371d8b026f"
      },
      "outputs": [
        {
          "data": {
            "text/plain": [
              "array([[9],\n",
              "       [3],\n",
              "       [4]])"
            ]
          },
          "execution_count": 40,
          "metadata": {},
          "output_type": "execute_result"
        }
      ],
      "source": [
        "matriz_porcion.reshape(3, 1)"
      ]
    },
    {
      "cell_type": "code",
      "execution_count": null,
      "metadata": {
        "id": "NmJVgxuGwVvg",
        "outputId": "988dc6f9-b8e6-45bc-9db3-6201b290a755"
      },
      "outputs": [
        {
          "data": {
            "text/plain": [
              "array([[9, 3, 4]])"
            ]
          },
          "execution_count": 41,
          "metadata": {},
          "output_type": "execute_result"
        }
      ],
      "source": [
        "matriz_porcion"
      ]
    },
    {
      "cell_type": "markdown",
      "metadata": {
        "id": "nsY1fzfnwVvh"
      },
      "source": [
        "### **Concatenación y separación de matrices**"
      ]
    },
    {
      "cell_type": "markdown",
      "metadata": {
        "id": "PocckuFxwVvh"
      },
      "source": [
        "##### **Concatenación**"
      ]
    },
    {
      "cell_type": "code",
      "execution_count": null,
      "metadata": {
        "id": "63E4S6g8wVvh",
        "outputId": "b29fd2f4-ab44-4776-bb2b-65ed97fa1d7b"
      },
      "outputs": [
        {
          "data": {
            "text/plain": [
              "array([1, 2, 3, 4, 5, 6])"
            ]
          },
          "execution_count": 42,
          "metadata": {},
          "output_type": "execute_result"
        }
      ],
      "source": [
        "x = np.array([1, 2, 3])\n",
        "y = np.array([4, 5, 6])\n",
        "np.concatenate([x, y])"
      ]
    },
    {
      "cell_type": "code",
      "execution_count": null,
      "metadata": {
        "id": "Ky04y-T_wVvi",
        "outputId": "bbd48633-7eb0-4535-9a05-28e0b78babaf"
      },
      "outputs": [
        {
          "data": {
            "text/plain": [
              "array([[1, 2, 3],\n",
              "       [4, 5, 6],\n",
              "       [1, 2, 3],\n",
              "       [4, 5, 6]])"
            ]
          },
          "execution_count": 43,
          "metadata": {},
          "output_type": "execute_result"
        }
      ],
      "source": [
        "grilla = np.array([[1, 2, 3], [4, 5, 6]])\n",
        "np.concatenate([grilla, grilla]) # Por defecto: axis = 0."
      ]
    },
    {
      "cell_type": "code",
      "execution_count": null,
      "metadata": {
        "id": "wLoMPQ4hwVvi",
        "outputId": "40705b6d-c53f-4cc5-b081-e94450295031"
      },
      "outputs": [
        {
          "data": {
            "text/plain": [
              "array([[1, 2, 3],\n",
              "       [4, 5, 6],\n",
              "       [1, 2, 3],\n",
              "       [4, 5, 6]])"
            ]
          },
          "execution_count": 44,
          "metadata": {},
          "output_type": "execute_result"
        }
      ],
      "source": [
        "np.vstack([grilla, grilla]) # Alternativa, por si no nos acordamos si queremos que axis sea igual a o 0 o 1."
      ]
    },
    {
      "cell_type": "code",
      "execution_count": null,
      "metadata": {
        "id": "Lt8d-QTtwVvj",
        "outputId": "a68bab26-7b5a-4768-dc35-2c623ae7ddb8"
      },
      "outputs": [
        {
          "data": {
            "text/plain": [
              "array([[1, 2, 3, 1, 2, 3],\n",
              "       [4, 5, 6, 4, 5, 6]])"
            ]
          },
          "execution_count": 45,
          "metadata": {},
          "output_type": "execute_result"
        }
      ],
      "source": [
        "np.concatenate([grilla, grilla], axis = 1)"
      ]
    },
    {
      "cell_type": "code",
      "execution_count": null,
      "metadata": {
        "id": "DzwHZuAjwVvj",
        "outputId": "7b8b137e-fcda-41c4-aa5d-879454d6afbd"
      },
      "outputs": [
        {
          "data": {
            "text/plain": [
              "array([[1, 2, 3, 1, 2, 3],\n",
              "       [4, 5, 6, 4, 5, 6]])"
            ]
          },
          "execution_count": 46,
          "metadata": {},
          "output_type": "execute_result"
        }
      ],
      "source": [
        "np.hstack([grilla, grilla]) # Alternativa, por si no nos acordamos si queremos que axis sea igual a o 0 o 1."
      ]
    },
    {
      "cell_type": "markdown",
      "metadata": {
        "id": "KPfwK7o3wVvk"
      },
      "source": [
        "`np.concatenate` se usa especialmente con matrices que tienen las mismas dimensiones (por ejemplo, las dos matrices a unir son 2x3); mientras que para unir matrices que no tienen las mismas dimensiones resulta más claro usar `np.vstack` y `np.hstack`."
      ]
    },
    {
      "cell_type": "markdown",
      "metadata": {
        "id": "MtpH-K48wVvl"
      },
      "source": [
        "También existe `np.dstack` para unir matrices a lo largo del tercer eje."
      ]
    },
    {
      "cell_type": "markdown",
      "metadata": {
        "id": "J8O6ThbewVvm"
      },
      "source": [
        "##### **Separación**"
      ]
    },
    {
      "cell_type": "code",
      "execution_count": null,
      "metadata": {
        "id": "vlPTQjwEwVvm",
        "outputId": "783548a0-86e0-4879-f9c3-7fa83eb7093c"
      },
      "outputs": [
        {
          "data": {
            "text/plain": [
              "array([1, 2, 3])"
            ]
          },
          "execution_count": 47,
          "metadata": {},
          "output_type": "execute_result"
        }
      ],
      "source": [
        "x"
      ]
    },
    {
      "cell_type": "code",
      "execution_count": null,
      "metadata": {
        "id": "OPOUbBdkwVvm"
      },
      "outputs": [],
      "source": [
        "x1, x2 = np.split(x, [1]) # Posición no incluida."
      ]
    },
    {
      "cell_type": "code",
      "execution_count": null,
      "metadata": {
        "id": "T5E6ndmkwVvo",
        "outputId": "6ce0d3b5-9014-4811-a7a1-222c7103bfd9"
      },
      "outputs": [
        {
          "data": {
            "text/plain": [
              "array([1])"
            ]
          },
          "execution_count": 49,
          "metadata": {},
          "output_type": "execute_result"
        }
      ],
      "source": [
        "x1"
      ]
    },
    {
      "cell_type": "code",
      "execution_count": null,
      "metadata": {
        "id": "sq_400qcwVvw",
        "outputId": "2e95847f-3ec3-415d-d47b-54c138e24b71"
      },
      "outputs": [
        {
          "data": {
            "text/plain": [
              "array([2, 3])"
            ]
          },
          "execution_count": 50,
          "metadata": {},
          "output_type": "execute_result"
        }
      ],
      "source": [
        "x2"
      ]
    },
    {
      "cell_type": "code",
      "execution_count": null,
      "metadata": {
        "id": "zVpw3AsawVvw",
        "outputId": "028d5249-4774-44c1-a26c-4c888fdd3ae3"
      },
      "outputs": [
        {
          "data": {
            "text/plain": [
              "array([[1, 2, 3],\n",
              "       [4, 5, 6]])"
            ]
          },
          "execution_count": 51,
          "metadata": {},
          "output_type": "execute_result"
        }
      ],
      "source": [
        "grilla"
      ]
    },
    {
      "cell_type": "code",
      "execution_count": null,
      "metadata": {
        "id": "elFFJUtbwVvx"
      },
      "outputs": [],
      "source": [
        "superior, inferior = np.vsplit(grilla, [1])"
      ]
    },
    {
      "cell_type": "code",
      "execution_count": null,
      "metadata": {
        "id": "_T_aiTYBwVvx",
        "outputId": "28dc74b3-522d-4416-f0a4-986f9c25e77a"
      },
      "outputs": [
        {
          "data": {
            "text/plain": [
              "array([[1, 2, 3]])"
            ]
          },
          "execution_count": 53,
          "metadata": {},
          "output_type": "execute_result"
        }
      ],
      "source": [
        "superior"
      ]
    },
    {
      "cell_type": "code",
      "execution_count": null,
      "metadata": {
        "id": "ubEKSMsmwVvy",
        "outputId": "4a26ff5c-81a6-460d-e59f-a67153330544"
      },
      "outputs": [
        {
          "data": {
            "text/plain": [
              "array([[4, 5, 6]])"
            ]
          },
          "execution_count": 54,
          "metadata": {},
          "output_type": "execute_result"
        }
      ],
      "source": [
        "inferior"
      ]
    },
    {
      "cell_type": "code",
      "execution_count": null,
      "metadata": {
        "id": "UO4iD4N8wVvy"
      },
      "outputs": [],
      "source": [
        "izquierda, derecha = np.hsplit(grilla, [1])"
      ]
    },
    {
      "cell_type": "code",
      "execution_count": null,
      "metadata": {
        "id": "XaG9XFApwVvz",
        "outputId": "3aa887c3-841d-4d9e-91ab-19b7ad480b57"
      },
      "outputs": [
        {
          "data": {
            "text/plain": [
              "array([[1],\n",
              "       [4]])"
            ]
          },
          "execution_count": 56,
          "metadata": {},
          "output_type": "execute_result"
        }
      ],
      "source": [
        "izquierda"
      ]
    },
    {
      "cell_type": "code",
      "execution_count": null,
      "metadata": {
        "id": "JeW7xy1UwVvz",
        "outputId": "46ececf0-deed-4858-fd28-596dfb3a7849"
      },
      "outputs": [
        {
          "data": {
            "text/plain": [
              "array([[2, 3],\n",
              "       [5, 6]])"
            ]
          },
          "execution_count": 57,
          "metadata": {},
          "output_type": "execute_result"
        }
      ],
      "source": [
        "derecha"
      ]
    },
    {
      "cell_type": "markdown",
      "metadata": {
        "id": "g5DDNqV8wVv2"
      },
      "source": [
        "### **Aritmética de matrices**"
      ]
    },
    {
      "cell_type": "code",
      "execution_count": null,
      "metadata": {
        "id": "6Im7wmIMwVv3",
        "outputId": "128b030f-df25-4c72-d61d-8e7df646ba40"
      },
      "outputs": [
        {
          "data": {
            "text/plain": [
              "array([[1, 2, 3],\n",
              "       [4, 5, 6]])"
            ]
          },
          "execution_count": 58,
          "metadata": {},
          "output_type": "execute_result"
        }
      ],
      "source": [
        "grilla"
      ]
    },
    {
      "cell_type": "code",
      "execution_count": null,
      "metadata": {
        "id": "i3-xf96ywVv3",
        "outputId": "e97bf34d-d149-4f56-d809-65c48c50a6ed"
      },
      "outputs": [
        {
          "data": {
            "text/plain": [
              "array([[ 6,  7,  8],\n",
              "       [ 9, 10, 11]])"
            ]
          },
          "execution_count": 59,
          "metadata": {},
          "output_type": "execute_result"
        }
      ],
      "source": [
        "grilla + 5"
      ]
    },
    {
      "cell_type": "markdown",
      "metadata": {
        "id": "pg8Vx31ZwVv4"
      },
      "source": [
        "Acá, se aplica *broadcasting*: un conjunto de reglas según las cuales NumPy nos deja aplicar operaciones binarias (como suma, resta y multiplicación) entre matrices de tamaños distintos.\n",
        "\n",
        "En el ejemplo anterior, podemos pensar que se trata de una operación que estira o duplica el valor 5 hasta generar la matriz `array([[5, 5, 5], [5, 5, 5]])` y, luego, suma `grilla` y dicha matriz."
      ]
    },
    {
      "cell_type": "code",
      "execution_count": null,
      "metadata": {
        "id": "cAKU512VwVv4",
        "outputId": "07ae19ba-c349-4f40-884d-d94bb00356e1"
      },
      "outputs": [
        {
          "data": {
            "text/plain": [
              "array([[ 6,  7,  8],\n",
              "       [ 9, 10, 11]])"
            ]
          },
          "execution_count": 60,
          "metadata": {},
          "output_type": "execute_result"
        }
      ],
      "source": [
        "np.add(grilla, 5) # Alternativa."
      ]
    },
    {
      "cell_type": "code",
      "execution_count": null,
      "metadata": {
        "id": "t3_KC2ZYwVv4",
        "outputId": "b906ba40-b5c3-4704-a6af-3ded4c0f6f22"
      },
      "outputs": [
        {
          "data": {
            "text/plain": [
              "array([[-4, -3, -2],\n",
              "       [-1,  0,  1]])"
            ]
          },
          "execution_count": 61,
          "metadata": {},
          "output_type": "execute_result"
        }
      ],
      "source": [
        "grilla - 5 # Alternativa: np.subtract()."
      ]
    },
    {
      "cell_type": "code",
      "execution_count": null,
      "metadata": {
        "id": "khnDk1bUwVv4",
        "outputId": "25747708-c307-4e2e-a69c-05efbac13252"
      },
      "outputs": [
        {
          "data": {
            "text/plain": [
              "array([[ 2,  4,  6],\n",
              "       [ 8, 10, 12]])"
            ]
          },
          "execution_count": 62,
          "metadata": {},
          "output_type": "execute_result"
        }
      ],
      "source": [
        "grilla * 2 # Alternativa: np.multiply()."
      ]
    },
    {
      "cell_type": "code",
      "execution_count": null,
      "metadata": {
        "id": "fpzM_5SzwVv5",
        "outputId": "10c6f302-a3ef-4d42-efde-10fe759dd87c"
      },
      "outputs": [
        {
          "data": {
            "text/plain": [
              "array([[0.5, 1. , 1.5],\n",
              "       [2. , 2.5, 3. ]])"
            ]
          },
          "execution_count": 63,
          "metadata": {},
          "output_type": "execute_result"
        }
      ],
      "source": [
        "grilla / 2 # Alternativa: np.divide()."
      ]
    },
    {
      "cell_type": "code",
      "execution_count": null,
      "metadata": {
        "id": "IMJaJhItwVv6",
        "outputId": "dcdcafa4-7c2a-4013-ce21-d87095d9f9a7"
      },
      "outputs": [
        {
          "data": {
            "text/plain": [
              "array([[0, 1, 1],\n",
              "       [2, 2, 3]])"
            ]
          },
          "execution_count": 64,
          "metadata": {},
          "output_type": "execute_result"
        }
      ],
      "source": [
        "grilla // 2 # Alternativa: np.floor_divide()."
      ]
    },
    {
      "cell_type": "code",
      "execution_count": null,
      "metadata": {
        "id": "kv8qmyC_wVv6",
        "outputId": "91034883-9244-4662-ef72-34459daa2fd9"
      },
      "outputs": [
        {
          "data": {
            "text/plain": [
              "array([[-1, -2, -3],\n",
              "       [-4, -5, -6]])"
            ]
          },
          "execution_count": 65,
          "metadata": {},
          "output_type": "execute_result"
        }
      ],
      "source": [
        "-grilla # Alternativa: np.negative()."
      ]
    },
    {
      "cell_type": "code",
      "execution_count": null,
      "metadata": {
        "id": "LWZUzkybwVv6",
        "outputId": "c17ac747-d0c0-4f89-db9f-043afaa6ebd4"
      },
      "outputs": [
        {
          "data": {
            "text/plain": [
              "array([[ 1,  4,  9],\n",
              "       [16, 25, 36]])"
            ]
          },
          "execution_count": 66,
          "metadata": {},
          "output_type": "execute_result"
        }
      ],
      "source": [
        "grilla ** 2 # Alternativa: np.power()."
      ]
    },
    {
      "cell_type": "code",
      "execution_count": null,
      "metadata": {
        "id": "BVvP-E24wVv7",
        "outputId": "b198a2bc-be6a-495f-deba-bd2256e295bc"
      },
      "outputs": [
        {
          "data": {
            "text/plain": [
              "array([[1, 0, 1],\n",
              "       [0, 1, 0]])"
            ]
          },
          "execution_count": 67,
          "metadata": {},
          "output_type": "execute_result"
        }
      ],
      "source": [
        "grilla % 2 # Alternativa: np.mod()."
      ]
    },
    {
      "cell_type": "code",
      "execution_count": null,
      "metadata": {
        "id": "7NiID38AwVv7",
        "outputId": "19b84be8-f75a-4dc9-cb1e-cfeb22bf3107"
      },
      "outputs": [
        {
          "data": {
            "text/plain": [
              "array([[ 4,  6,  8],\n",
              "       [10, 12, 14]])"
            ]
          },
          "execution_count": 68,
          "metadata": {},
          "output_type": "execute_result"
        }
      ],
      "source": [
        "(grilla + 1) * 2"
      ]
    },
    {
      "cell_type": "markdown",
      "metadata": {
        "id": "fGXNz8wYwVv7"
      },
      "source": [
        "### **Valor absoluto de matrices**"
      ]
    },
    {
      "cell_type": "code",
      "execution_count": null,
      "metadata": {
        "id": "isn_twKywVv7",
        "outputId": "4d05b90d-79fc-4925-c18a-fdb7b5bf5fe2"
      },
      "outputs": [
        {
          "data": {
            "text/plain": [
              "array([[-1, -2, -3],\n",
              "       [-4, -5, -6]])"
            ]
          },
          "execution_count": 69,
          "metadata": {},
          "output_type": "execute_result"
        }
      ],
      "source": [
        "-grilla"
      ]
    },
    {
      "cell_type": "code",
      "execution_count": null,
      "metadata": {
        "id": "5-Z00IHXwVv8",
        "outputId": "697335c4-edf7-4482-811d-52a504ca26c2"
      },
      "outputs": [
        {
          "data": {
            "text/plain": [
              "array([[1, 2, 3],\n",
              "       [4, 5, 6]])"
            ]
          },
          "execution_count": 70,
          "metadata": {},
          "output_type": "execute_result"
        }
      ],
      "source": [
        "abs(-grilla)"
      ]
    },
    {
      "cell_type": "code",
      "execution_count": null,
      "metadata": {
        "id": "pWsbIxlRwVv8",
        "outputId": "4e9c0a31-5b6c-4723-ab8b-baf87771d985"
      },
      "outputs": [
        {
          "data": {
            "text/plain": [
              "array([[1, 2, 3],\n",
              "       [4, 5, 6]])"
            ]
          },
          "execution_count": 71,
          "metadata": {},
          "output_type": "execute_result"
        }
      ],
      "source": [
        "np.absolute(-grilla) # Alternativa."
      ]
    },
    {
      "cell_type": "code",
      "execution_count": null,
      "metadata": {
        "id": "kW3whQGrwVwC",
        "outputId": "307a8a8f-b259-402d-ccc2-ce28127a1690"
      },
      "outputs": [
        {
          "data": {
            "text/plain": [
              "array([[1, 2, 3],\n",
              "       [4, 5, 6]])"
            ]
          },
          "execution_count": 72,
          "metadata": {},
          "output_type": "execute_result"
        }
      ],
      "source": [
        "np.abs(-grilla) # Otra alternativa."
      ]
    },
    {
      "cell_type": "markdown",
      "metadata": {
        "id": "R0eowb6kwVwG"
      },
      "source": [
        "### **Funciones trigonométricas**"
      ]
    },
    {
      "cell_type": "code",
      "execution_count": null,
      "metadata": {
        "id": "aScB-tqhwVwH",
        "outputId": "7e69b76b-e5e7-4fb9-d4c4-35d179c0933f"
      },
      "outputs": [
        {
          "data": {
            "text/plain": [
              "array([-1,  0,  1])"
            ]
          },
          "execution_count": 73,
          "metadata": {},
          "output_type": "execute_result"
        }
      ],
      "source": [
        "z = np.array([-1, 0, 1])\n",
        "z"
      ]
    },
    {
      "cell_type": "code",
      "execution_count": null,
      "metadata": {
        "id": "QoaICv7ewVwH",
        "outputId": "e51c355b-5af6-4cbe-8ea7-866ca1097741"
      },
      "outputs": [
        {
          "data": {
            "text/plain": [
              "array([-0.84147098,  0.        ,  0.84147098])"
            ]
          },
          "execution_count": 74,
          "metadata": {},
          "output_type": "execute_result"
        }
      ],
      "source": [
        "np.sin(z)"
      ]
    },
    {
      "cell_type": "code",
      "execution_count": null,
      "metadata": {
        "id": "J2deI4MVwVwI",
        "outputId": "b0c6aea8-4803-43ac-9d1b-669cc53f177d"
      },
      "outputs": [
        {
          "data": {
            "text/plain": [
              "array([0.54030231, 1.        , 0.54030231])"
            ]
          },
          "execution_count": 75,
          "metadata": {},
          "output_type": "execute_result"
        }
      ],
      "source": [
        "np.cos(z)"
      ]
    },
    {
      "cell_type": "code",
      "execution_count": null,
      "metadata": {
        "id": "Ky_p6v6YwVwI",
        "outputId": "0970b3e2-1f0d-453a-f6de-723426dbabfa"
      },
      "outputs": [
        {
          "data": {
            "text/plain": [
              "array([-1.55740772,  0.        ,  1.55740772])"
            ]
          },
          "execution_count": 76,
          "metadata": {},
          "output_type": "execute_result"
        }
      ],
      "source": [
        "np.tan(z)"
      ]
    },
    {
      "cell_type": "markdown",
      "metadata": {
        "id": "rztSgeR8wVwT"
      },
      "source": [
        "Otras funciones trigonométricas disponibles son:\n",
        "* `np.arcsin()`,\n",
        "* `np.arccos()` y\n",
        "* `np.arctan()`."
      ]
    },
    {
      "cell_type": "markdown",
      "metadata": {
        "id": "ex-McsNwwVwU"
      },
      "source": [
        "### **Exponentes y logaritmos**"
      ]
    },
    {
      "cell_type": "markdown",
      "metadata": {
        "id": "fhhviLD1wVwU"
      },
      "source": [
        "##### **Exponentes**"
      ]
    },
    {
      "cell_type": "code",
      "execution_count": null,
      "metadata": {
        "id": "OnM_klQkwVwV",
        "outputId": "bd96bb75-ab67-4ac8-d07e-caeb80cccd5a"
      },
      "outputs": [
        {
          "data": {
            "text/plain": [
              "array([-1,  0,  1])"
            ]
          },
          "execution_count": 77,
          "metadata": {},
          "output_type": "execute_result"
        }
      ],
      "source": [
        "z"
      ]
    },
    {
      "cell_type": "code",
      "execution_count": null,
      "metadata": {
        "id": "r9OihfeMwVwV",
        "outputId": "a406d1a5-5939-40b3-b09a-30e15cf96f23"
      },
      "outputs": [
        {
          "data": {
            "text/plain": [
              "array([0.36787944, 1.        , 2.71828183])"
            ]
          },
          "execution_count": 78,
          "metadata": {},
          "output_type": "execute_result"
        }
      ],
      "source": [
        "np.exp(z) # e ^ z."
      ]
    },
    {
      "cell_type": "code",
      "execution_count": null,
      "metadata": {
        "id": "LRxzaEurwVwV",
        "outputId": "07cac7d3-b26c-496f-93b0-25c7a369b9bb"
      },
      "outputs": [
        {
          "data": {
            "text/plain": [
              "array([0.5, 1. , 2. ])"
            ]
          },
          "execution_count": 79,
          "metadata": {},
          "output_type": "execute_result"
        }
      ],
      "source": [
        "np.exp2(z) # 2 ^ z."
      ]
    },
    {
      "cell_type": "code",
      "execution_count": null,
      "metadata": {
        "id": "fnCRg4TxwVwW",
        "outputId": "c01836af-f8b0-462c-a620-e0cd10635a8c"
      },
      "outputs": [
        {
          "data": {
            "text/plain": [
              "array([0.33333333, 1.        , 3.        ])"
            ]
          },
          "execution_count": 80,
          "metadata": {},
          "output_type": "execute_result"
        }
      ],
      "source": [
        "np.power(3., z) # 3 ^ z."
      ]
    },
    {
      "cell_type": "code",
      "execution_count": null,
      "metadata": {
        "id": "fXUBIxavwVwW",
        "outputId": "eeb6d826-2601-49a5-ec4b-a5104a8e9c2c"
      },
      "outputs": [
        {
          "data": {
            "text/plain": [
              "array([-0.63212056,  0.        ,  1.71828183])"
            ]
          },
          "execution_count": 81,
          "metadata": {},
          "output_type": "execute_result"
        }
      ],
      "source": [
        "np.expm1(z) # Versión más precisa que: np.exp(z) - 1."
      ]
    },
    {
      "cell_type": "markdown",
      "metadata": {
        "id": "jfMEjLwAwVwW"
      },
      "source": [
        "##### **Logaritmos**"
      ]
    },
    {
      "cell_type": "code",
      "execution_count": null,
      "metadata": {
        "id": "jg8pablIwVwX",
        "outputId": "81d08efb-e659-40aa-e3cf-fdfe44833c69"
      },
      "outputs": [
        {
          "data": {
            "text/plain": [
              "array([0.5, 1. , 2. ])"
            ]
          },
          "execution_count": 82,
          "metadata": {},
          "output_type": "execute_result"
        }
      ],
      "source": [
        "v = np.array([0.5, 1, 2])\n",
        "v"
      ]
    },
    {
      "cell_type": "code",
      "execution_count": null,
      "metadata": {
        "id": "MRVyqlqEwVwX",
        "outputId": "612f62e5-b363-4359-f9e3-70ce70cc5cad"
      },
      "outputs": [
        {
          "data": {
            "text/plain": [
              "array([-0.69314718,  0.        ,  0.69314718])"
            ]
          },
          "execution_count": 83,
          "metadata": {},
          "output_type": "execute_result"
        }
      ],
      "source": [
        "np.log(v) # ln(v)."
      ]
    },
    {
      "cell_type": "code",
      "execution_count": null,
      "metadata": {
        "id": "0LEJiwMewVwX",
        "outputId": "e39f5ceb-a379-4244-c83c-7875ef7f5cd1"
      },
      "outputs": [
        {
          "data": {
            "text/plain": [
              "array([-1.,  0.,  1.])"
            ]
          },
          "execution_count": 84,
          "metadata": {},
          "output_type": "execute_result"
        }
      ],
      "source": [
        "np.log2(v)"
      ]
    },
    {
      "cell_type": "code",
      "execution_count": null,
      "metadata": {
        "id": "pGPETnURwVwY",
        "outputId": "b4d168f1-0a43-4d55-afea-0a7a5758e1af"
      },
      "outputs": [
        {
          "data": {
            "text/plain": [
              "array([-0.30103,  0.     ,  0.30103])"
            ]
          },
          "execution_count": 85,
          "metadata": {},
          "output_type": "execute_result"
        }
      ],
      "source": [
        "np.log10(v)"
      ]
    },
    {
      "cell_type": "code",
      "execution_count": null,
      "metadata": {
        "id": "NywGSSqRwVwY",
        "outputId": "8350634b-5cb4-44b0-8bd6-b91accaff4c7"
      },
      "outputs": [
        {
          "data": {
            "text/plain": [
              "array([0.40546511, 0.69314718, 1.09861229])"
            ]
          },
          "execution_count": 86,
          "metadata": {},
          "output_type": "execute_result"
        }
      ],
      "source": [
        "np.log1p(v) # Versión más precisa que: np.log(1 + v)."
      ]
    },
    {
      "cell_type": "markdown",
      "metadata": {
        "id": "SbezVLRswVwY"
      },
      "source": [
        "### **Especificación de la salida**"
      ]
    },
    {
      "cell_type": "code",
      "execution_count": null,
      "metadata": {
        "id": "py0466OGwVwY",
        "outputId": "dd5c940e-4df7-4327-f358-fbf2e9d4600c"
      },
      "outputs": [
        {
          "data": {
            "text/plain": [
              "array([1, 2, 3])"
            ]
          },
          "execution_count": 87,
          "metadata": {},
          "output_type": "execute_result"
        }
      ],
      "source": [
        "x"
      ]
    },
    {
      "cell_type": "code",
      "execution_count": null,
      "metadata": {
        "id": "iOSNpynSwVwZ",
        "outputId": "aaa7342f-c074-497a-9695-909da2a7f084"
      },
      "outputs": [
        {
          "data": {
            "text/plain": [
              "array([4, 5, 6])"
            ]
          },
          "execution_count": 88,
          "metadata": {},
          "output_type": "execute_result"
        }
      ],
      "source": [
        "y"
      ]
    },
    {
      "cell_type": "code",
      "execution_count": null,
      "metadata": {
        "id": "HzoISfQkwVwa",
        "outputId": "2e98c430-813f-4c8e-d911-f7e639712c12"
      },
      "outputs": [
        {
          "data": {
            "text/plain": [
              "array([0., 0., 0.])"
            ]
          },
          "execution_count": 89,
          "metadata": {},
          "output_type": "execute_result"
        }
      ],
      "source": [
        "xy = np.zeros(x.shape[0])\n",
        "xy"
      ]
    },
    {
      "cell_type": "code",
      "execution_count": null,
      "metadata": {
        "id": "efnNFvmKwVwc",
        "outputId": "9dc1dfa6-aff7-4278-f6d4-12b642a6959d"
      },
      "outputs": [
        {
          "data": {
            "text/plain": [
              "array([ 4., 10., 18.])"
            ]
          },
          "execution_count": 90,
          "metadata": {},
          "output_type": "execute_result"
        }
      ],
      "source": [
        "np.multiply(x, y, out = xy)\n",
        "xy"
      ]
    },
    {
      "cell_type": "markdown",
      "metadata": {
        "id": "f36XNzq0wVwe"
      },
      "source": [
        "### **Agregaciones**"
      ]
    },
    {
      "cell_type": "code",
      "execution_count": null,
      "metadata": {
        "id": "k7QTlXlJwVwe",
        "outputId": "66d25df0-f989-4e4a-8ab2-7cdf38b332ae"
      },
      "outputs": [
        {
          "data": {
            "text/plain": [
              "array([1, 2, 3])"
            ]
          },
          "execution_count": 91,
          "metadata": {},
          "output_type": "execute_result"
        }
      ],
      "source": [
        "x"
      ]
    },
    {
      "cell_type": "code",
      "execution_count": null,
      "metadata": {
        "id": "XrsqCmn5wVwf",
        "outputId": "e7a6d53f-3870-4e6f-c967-420d213f07a4"
      },
      "outputs": [
        {
          "data": {
            "text/plain": [
              "6"
            ]
          },
          "execution_count": 92,
          "metadata": {},
          "output_type": "execute_result"
        }
      ],
      "source": [
        "np.add.reduce(x)"
      ]
    },
    {
      "cell_type": "code",
      "execution_count": null,
      "metadata": {
        "id": "EcoFtPn3wVwg",
        "outputId": "4a2f4e66-5068-43f0-c682-f0d7baae4376"
      },
      "outputs": [
        {
          "data": {
            "text/plain": [
              "6"
            ]
          },
          "execution_count": 93,
          "metadata": {},
          "output_type": "execute_result"
        }
      ],
      "source": [
        "np.sum(x) # Alternativa."
      ]
    },
    {
      "cell_type": "code",
      "execution_count": null,
      "metadata": {
        "id": "eIhn5QzKwVwg",
        "outputId": "b342ed27-f45c-47ad-d889-54535452c72e"
      },
      "outputs": [
        {
          "data": {
            "text/plain": [
              "6"
            ]
          },
          "execution_count": 94,
          "metadata": {},
          "output_type": "execute_result"
        }
      ],
      "source": [
        "sum(x) # Otra alternativa."
      ]
    },
    {
      "cell_type": "code",
      "execution_count": null,
      "metadata": {
        "id": "P0e1Db7BwVwh",
        "outputId": "db58737f-77cc-4ef7-b27f-d2c25479423c"
      },
      "outputs": [
        {
          "data": {
            "text/plain": [
              "6"
            ]
          },
          "execution_count": 95,
          "metadata": {},
          "output_type": "execute_result"
        }
      ],
      "source": [
        "np.multiply.reduce(x)"
      ]
    },
    {
      "cell_type": "code",
      "execution_count": null,
      "metadata": {
        "id": "jUlHJhVmwVwi",
        "outputId": "52a2b0c3-3663-4037-a6a7-b33f0f4fba78"
      },
      "outputs": [
        {
          "data": {
            "text/plain": [
              "array([1, 3, 6])"
            ]
          },
          "execution_count": 96,
          "metadata": {},
          "output_type": "execute_result"
        }
      ],
      "source": [
        "np.add.accumulate(x)"
      ]
    },
    {
      "cell_type": "code",
      "execution_count": null,
      "metadata": {
        "id": "ubOZ1ZKHwVwj",
        "outputId": "3c489f92-d24f-4e17-d156-11f0fadd7efd"
      },
      "outputs": [
        {
          "data": {
            "text/plain": [
              "array([1, 2, 6])"
            ]
          },
          "execution_count": 97,
          "metadata": {},
          "output_type": "execute_result"
        }
      ],
      "source": [
        "np.multiply.accumulate(x)"
      ]
    },
    {
      "cell_type": "code",
      "execution_count": null,
      "metadata": {
        "id": "OmSOtRy2wVwj",
        "outputId": "22d16dd5-6228-4d7e-d287-c735aee90b8b"
      },
      "outputs": [
        {
          "data": {
            "text/plain": [
              "1"
            ]
          },
          "execution_count": 99,
          "metadata": {},
          "output_type": "execute_result"
        }
      ],
      "source": [
        "np.min(x) # Alternativa: min()."
      ]
    },
    {
      "cell_type": "code",
      "execution_count": null,
      "metadata": {
        "id": "AiD2hS5fwVwk",
        "outputId": "0350c9ec-a454-46b7-a30d-c552e60d3304"
      },
      "outputs": [
        {
          "data": {
            "text/plain": [
              "3"
            ]
          },
          "execution_count": 100,
          "metadata": {},
          "output_type": "execute_result"
        }
      ],
      "source": [
        "np.max(x) # Alternativa: max()."
      ]
    },
    {
      "cell_type": "code",
      "execution_count": null,
      "metadata": {
        "id": "cZVwt5khwVwk",
        "outputId": "033a2b4f-14c8-454e-b0ce-8438e29475fe"
      },
      "outputs": [
        {
          "data": {
            "text/plain": [
              "array([[1, 2, 3],\n",
              "       [4, 5, 6]])"
            ]
          },
          "execution_count": 101,
          "metadata": {},
          "output_type": "execute_result"
        }
      ],
      "source": [
        "grilla"
      ]
    },
    {
      "cell_type": "code",
      "execution_count": null,
      "metadata": {
        "id": "brBtpZdkwVwl",
        "outputId": "40baee24-b61d-4a28-ada1-817b3d8b273a"
      },
      "outputs": [
        {
          "data": {
            "text/plain": [
              "array([1, 2, 3])"
            ]
          },
          "execution_count": 102,
          "metadata": {},
          "output_type": "execute_result"
        }
      ],
      "source": [
        "grilla.min(axis = 0) # Devuelve el mínimo de cada columna."
      ]
    },
    {
      "cell_type": "code",
      "execution_count": null,
      "metadata": {
        "id": "T5IjQVUtwVwl",
        "outputId": "6fdd35cd-8b65-4703-aae5-46deb40b7a60"
      },
      "outputs": [
        {
          "data": {
            "text/plain": [
              "array([1, 4])"
            ]
          },
          "execution_count": 103,
          "metadata": {},
          "output_type": "execute_result"
        }
      ],
      "source": [
        "grilla.min(axis = 1) # Devuelve el mínimo de cada fila."
      ]
    },
    {
      "cell_type": "code",
      "execution_count": null,
      "metadata": {
        "id": "5BVKvsE2wVwl",
        "outputId": "94cadf2d-172d-413e-e739-e290f7de0ac4"
      },
      "outputs": [
        {
          "data": {
            "text/plain": [
              "array([4, 5, 6])"
            ]
          },
          "execution_count": 104,
          "metadata": {},
          "output_type": "execute_result"
        }
      ],
      "source": [
        "grilla.max(axis = 0) # Devuelve el máximo de cada columna."
      ]
    },
    {
      "cell_type": "code",
      "execution_count": null,
      "metadata": {
        "id": "7HkY5vf1wVwn",
        "outputId": "8c9cb970-7686-4ded-8ebd-4a4ec1cf2fc7"
      },
      "outputs": [
        {
          "data": {
            "text/plain": [
              "array([3, 6])"
            ]
          },
          "execution_count": 105,
          "metadata": {},
          "output_type": "execute_result"
        }
      ],
      "source": [
        "grilla.max(axis = 1) # Devuelve el máximo de cada fila."
      ]
    },
    {
      "cell_type": "markdown",
      "metadata": {
        "id": "B91sfpclwVwo"
      },
      "source": [
        "A continuación, se listan funciones para realizar agregaciones disponibles en NumPy, especificando: su nombre | su versión segura para `NaN` | su descripción.\n",
        "\n",
        "* `np.sum`        | `np.nansum`        | Computa la suma de los elementos.\n",
        "\n",
        "* `np.prod`       | `np.nanprod`       | Computa el producto de los elementos.\n",
        "* `no.mean`       | `np.nanmean`       | Computa el promedio de los elementos.\n",
        "* `np.std`        | `np.nanstd`        | Computa el desvío estándar.\n",
        "* `np.var`        | `np.nanvar`        | Computa la varianza.\n",
        "* `np.min`        | `np.nanmin`        | Encuentra el valor mínimo.\n",
        "* `np.max`        | `np.nanmax`        | Encuentra el valor máximo.\n",
        "* `np.argmin`     | `np.nanargmin`     | Encuentra el índice del valor mínimo.\n",
        "* `np.argmax`     | `np.nanargmax`     | Encuentra el índice del valor máximo.\n",
        "* `np.median`     | `np.nanmedian`     | Computa la mediana de los elementos.\n",
        "* `np.percentile` | `np.nanpercentile` | Computa estadísticos basados en la posición de los elementos.\n",
        "* `np.any`        | -                  | Evalúa si algún elemento es True.\n",
        "* `np.all`        | -                  | Evalúa si todos los elementos son True."
      ]
    },
    {
      "cell_type": "markdown",
      "metadata": {
        "id": "AFIbGy5DwVwp"
      },
      "source": [
        "### **Producto exterior**"
      ]
    },
    {
      "cell_type": "markdown",
      "metadata": {
        "id": "HP784ZTvwVwq"
      },
      "source": [
        "![matrices-producto-exterior-teoria](https://encrypted-tbn0.gstatic.com/images?q=tbn:ANd9GcSm1q8oXq3SBegEjrLYO6jFprSmRMgdwRA-5nY8UJ69H_u1crBQXGk0T17DTlv2pMpBJA&usqp=CAU)"
      ]
    },
    {
      "cell_type": "markdown",
      "metadata": {
        "id": "VMsrAp5RwVwq"
      },
      "source": [
        "![matrices-producto-exterior-practica](data:image/jpeg;base64,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)"
      ]
    },
    {
      "cell_type": "code",
      "execution_count": null,
      "metadata": {
        "id": "fC9HLSkfwVwq",
        "outputId": "270e556c-d162-47fe-9418-cc12f3cc93c1"
      },
      "outputs": [
        {
          "data": {
            "text/plain": [
              "array([[1, 2],\n",
              "       [3, 1]])"
            ]
          },
          "execution_count": 106,
          "metadata": {},
          "output_type": "execute_result"
        }
      ],
      "source": [
        "a = np.array([[1, 2], [3, 1]])\n",
        "a"
      ]
    },
    {
      "cell_type": "code",
      "execution_count": null,
      "metadata": {
        "id": "Gt-O3DDowVwt",
        "outputId": "06cec18f-22a4-4435-9cbc-932ed4625985"
      },
      "outputs": [
        {
          "data": {
            "text/plain": [
              "array([[0, 3],\n",
              "       [2, 1]])"
            ]
          },
          "execution_count": 107,
          "metadata": {},
          "output_type": "execute_result"
        }
      ],
      "source": [
        "b = np.array([[0, 3], [2, 1]])\n",
        "b"
      ]
    },
    {
      "cell_type": "code",
      "execution_count": null,
      "metadata": {
        "id": "GUZi2PDswVwu",
        "outputId": "48605d8f-fa46-4b3c-fbe7-8f61490fa403"
      },
      "outputs": [
        {
          "data": {
            "text/plain": [
              "array([[[[0, 3],\n",
              "         [2, 1]],\n",
              "\n",
              "        [[0, 6],\n",
              "         [4, 2]]],\n",
              "\n",
              "\n",
              "       [[[0, 9],\n",
              "         [6, 3]],\n",
              "\n",
              "        [[0, 3],\n",
              "         [2, 1]]]])"
            ]
          },
          "execution_count": 108,
          "metadata": {},
          "output_type": "execute_result"
        }
      ],
      "source": [
        "np.multiply.outer(a, b)"
      ]
    },
    {
      "cell_type": "markdown",
      "metadata": {
        "id": "BR_Yb4yPwVwv"
      },
      "source": [
        "### **Multiplicación entre matrices**"
      ]
    },
    {
      "cell_type": "markdown",
      "metadata": {
        "id": "aOdoOSu2wVww"
      },
      "source": [
        "##### **Elemento a elemento**"
      ]
    },
    {
      "cell_type": "markdown",
      "metadata": {
        "id": "1gtWLBEYwVww"
      },
      "source": [
        "![matrices-multiplicacion-elemento-a-elemento-teoria](https://ml-cheatsheet.readthedocs.io/en/latest/_images/khan_academy_matrix_product.png)"
      ]
    },
    {
      "cell_type": "markdown",
      "metadata": {
        "id": "QaItozEmwVwy"
      },
      "source": [
        "![matrices-multiplicacion-elemento-a-elemento-practica](data:image/png;base64,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)"
      ]
    },
    {
      "cell_type": "code",
      "execution_count": null,
      "metadata": {
        "id": "z9jd2JMCwVwy",
        "outputId": "da1726a3-dae8-41fc-baa5-875c7e2b35ab"
      },
      "outputs": [
        {
          "data": {
            "text/plain": [
              "array([[ 3, 30, 21],\n",
              "       [ 0, 18, 72]])"
            ]
          },
          "execution_count": 109,
          "metadata": {},
          "output_type": "execute_result"
        }
      ],
      "source": [
        "g = np.array([[3, 5, 7], [4, 9, 8]])\n",
        "h = np.array([[1, 6, 3], [0, 2, 9]])\n",
        "n = np.array([[3 * 1, 5 * 6, 7 * 3], [4 * 0, 9 * 2, 8 * 9]])\n",
        "n"
      ]
    },
    {
      "cell_type": "code",
      "execution_count": null,
      "metadata": {
        "id": "5D2-gbC-wVwz",
        "outputId": "f7669d45-3e61-485a-8548-41d15d84ed87"
      },
      "outputs": [
        {
          "data": {
            "text/plain": [
              "array([[ 3, 30, 21],\n",
              "       [ 0, 18, 72]])"
            ]
          },
          "execution_count": 110,
          "metadata": {},
          "output_type": "execute_result"
        }
      ],
      "source": [
        "g * h"
      ]
    },
    {
      "cell_type": "markdown",
      "metadata": {
        "id": "L9p7yDUrwVw0"
      },
      "source": [
        "##### **Producto punto**"
      ]
    },
    {
      "cell_type": "markdown",
      "metadata": {
        "id": "iPxtegO1wVw0"
      },
      "source": [
        "<img src=\"https://i.ytimg.com/vi/ZUeSxQ67wD8/maxresdefault.jpg\" alt=\"matrices-multiplicacion-producto-punto-v1\" width=\"600\"/>"
      ]
    },
    {
      "cell_type": "code",
      "execution_count": null,
      "metadata": {
        "id": "QqyTpFq8wVw1",
        "outputId": "7e50a92a-e266-4ed1-a420-4ff937999aa2"
      },
      "outputs": [
        {
          "data": {
            "text/plain": [
              "array([[ 44,  38],\n",
              "       [126,  86],\n",
              "       [ 58,  63]])"
            ]
          },
          "execution_count": 111,
          "metadata": {},
          "output_type": "execute_result"
        }
      ],
      "source": [
        "a = np.array([[5, 0, 3], [3, 7, 9], [3, 5, 2]])\n",
        "b = np.array([[4, 7], [6, 8], [8, 1]])\n",
        "a.dot(b)"
      ]
    },
    {
      "cell_type": "markdown",
      "metadata": {
        "id": "KS-qKoBiwVw1"
      },
      "source": [
        "<img src=\"https://blog.finxter.com/wp-content/uploads/2021/01/matmul_comparison-1024x576.jpg\" alt=\"matrices-multiplicacion-producto-punto-v2\" width=\"600\"/>"
      ]
    },
    {
      "cell_type": "code",
      "execution_count": null,
      "metadata": {
        "id": "OTK7DFAjwVw2"
      },
      "outputs": [],
      "source": [
        "a = np.array([[2, 2], [1, 1]])\n",
        "b = np.array([[2, 2, 2], [1, 1, 1]])"
      ]
    },
    {
      "cell_type": "code",
      "execution_count": null,
      "metadata": {
        "id": "n0sMa_o7wVw2",
        "outputId": "311d578d-db90-4f9a-fba1-230ccc64f144"
      },
      "outputs": [
        {
          "data": {
            "text/plain": [
              "array([[6, 6, 6],\n",
              "       [3, 3, 3]])"
            ]
          },
          "execution_count": 113,
          "metadata": {},
          "output_type": "execute_result"
        }
      ],
      "source": [
        "a@b"
      ]
    },
    {
      "cell_type": "code",
      "execution_count": null,
      "metadata": {
        "id": "wozfjwUFwVw3",
        "outputId": "33dd793d-f27b-4b88-ec70-5e725c69a8a8"
      },
      "outputs": [
        {
          "data": {
            "text/plain": [
              "array([[6, 6, 6],\n",
              "       [3, 3, 3]])"
            ]
          },
          "execution_count": 114,
          "metadata": {},
          "output_type": "execute_result"
        }
      ],
      "source": [
        "np.dot(a, b)"
      ]
    },
    {
      "cell_type": "code",
      "execution_count": null,
      "metadata": {
        "id": "EbmMxw5SwVw3",
        "outputId": "8542c142-a4df-40ff-c07c-85ce0735699c"
      },
      "outputs": [
        {
          "data": {
            "text/plain": [
              "array([[6, 6, 6],\n",
              "       [3, 3, 3]])"
            ]
          },
          "execution_count": 115,
          "metadata": {},
          "output_type": "execute_result"
        }
      ],
      "source": [
        "np.matmul(a, b)"
      ]
    },
    {
      "cell_type": "markdown",
      "metadata": {
        "id": "qVrIpRZwwVw3"
      },
      "source": [
        "### **Inversa, determinante, autovalores y autovectores**"
      ]
    },
    {
      "cell_type": "markdown",
      "metadata": {
        "id": "E4Hjr7k4wVw3"
      },
      "source": [
        "##### **Inversa**"
      ]
    },
    {
      "cell_type": "code",
      "execution_count": null,
      "metadata": {
        "id": "icKSgr65wVw4",
        "outputId": "9ee1bf0e-a8c3-4b0e-8542-28ab813be7b2"
      },
      "outputs": [
        {
          "data": {
            "text/plain": [
              "array([[2, 3, 4],\n",
              "       [4, 5, 6],\n",
              "       [6, 7, 8]])"
            ]
          },
          "execution_count": 116,
          "metadata": {},
          "output_type": "execute_result"
        }
      ],
      "source": [
        "matriz"
      ]
    },
    {
      "cell_type": "code",
      "execution_count": null,
      "metadata": {
        "id": "lzwAsmHnwVw4",
        "outputId": "909deeab-7659-44fb-9f67-2284b54c0219"
      },
      "outputs": [
        {
          "data": {
            "text/plain": [
              "array([[ 5.62949953e+14, -1.12589991e+15,  5.62949953e+14],\n",
              "       [-1.12589991e+15,  2.25179981e+15, -1.12589991e+15],\n",
              "       [ 5.62949953e+14, -1.12589991e+15,  5.62949953e+14]])"
            ]
          },
          "execution_count": 117,
          "metadata": {},
          "output_type": "execute_result"
        }
      ],
      "source": [
        "np.linalg.inv(matriz)"
      ]
    },
    {
      "cell_type": "markdown",
      "metadata": {
        "id": "XitV-oQtwVw4"
      },
      "source": [
        "Recordar que el producto punto entre una matriz y su inversa es igual al producto punto entre dicha inversa y dicha matriz, lo que es a su vez igual a la matriz identidad.\n",
        "\n",
        "`dot(a, ainv) = dot(ainv, a) = eye(a.shape[0])`."
      ]
    },
    {
      "cell_type": "code",
      "execution_count": null,
      "metadata": {
        "id": "-BRq5UlUwVw5",
        "outputId": "25e6fb3d-8ca8-4430-b13d-b5729ac123f3"
      },
      "outputs": [
        {
          "data": {
            "text/plain": [
              "array([[1. , 0. , 0. ],\n",
              "       [0.5, 0. , 0.5],\n",
              "       [0. , 0. , 1. ]])"
            ]
          },
          "execution_count": 118,
          "metadata": {},
          "output_type": "execute_result"
        }
      ],
      "source": [
        "np.dot(matriz, np.linalg.inv(matriz)) # No da exacto por el tema de los decimales en la computadora."
      ]
    },
    {
      "cell_type": "markdown",
      "metadata": {
        "id": "VKYO6smTwVw6"
      },
      "source": [
        "##### **Determinante**"
      ]
    },
    {
      "cell_type": "markdown",
      "metadata": {
        "id": "fAbmSPCHwVw7"
      },
      "source": [
        "![matrices-determinante](https://1.bp.blogspot.com/-YhSntYElHtM/X5SONGBT04I/AAAAAAAAUeM/8ka2qhLDMV4UMXDI7Io6cPB1CEIjiQgyACLcBGAsYHQ/s591/determinante-de-orden3-ejemplo.gif)"
      ]
    },
    {
      "cell_type": "code",
      "execution_count": null,
      "metadata": {
        "id": "MN43UqGewVw9",
        "outputId": "95cfe53d-f234-41a5-9801-cede64539153"
      },
      "outputs": [
        {
          "data": {
            "text/plain": [
              "4.999999999999999"
            ]
          },
          "execution_count": 119,
          "metadata": {},
          "output_type": "execute_result"
        }
      ],
      "source": [
        "a = np.array([[2, 1, 3], [4, -1, 2], [-3, 4, 2]])\n",
        "np.linalg.det(a)"
      ]
    },
    {
      "cell_type": "markdown",
      "metadata": {
        "id": "bcGz66AQwVw-"
      },
      "source": [
        "##### **Autovalores y autovectores**"
      ]
    },
    {
      "cell_type": "markdown",
      "metadata": {
        "id": "sLsurTuQwVw_"
      },
      "source": [
        "Si se desean repasar estas nociones, puede resultar útil la siguiente página: https://aga.frba.utn.edu.ar/autovalores-autovectores-definiciones-propiedades/."
      ]
    },
    {
      "cell_type": "code",
      "execution_count": null,
      "metadata": {
        "id": "JzcZQ-GTwVw_",
        "outputId": "3b067206-ae66-4eb5-f258-84b2acde0844"
      },
      "outputs": [
        {
          "data": {
            "text/plain": [
              "(array([2., 5.]),\n",
              " array([[-0.89442719, -0.70710678],\n",
              "        [ 0.4472136 , -0.70710678]]))"
            ]
          },
          "execution_count": 120,
          "metadata": {},
          "output_type": "execute_result"
        }
      ],
      "source": [
        "a = np.array([[3, 2], [1, 4]]) # Es el ejemplo 1 de dicha página.\n",
        "np.linalg.eig(a)"
      ]
    },
    {
      "cell_type": "markdown",
      "metadata": {
        "id": "D8WUEuy7wVw_"
      },
      "source": [
        "### **Comparaciones y máscaras**"
      ]
    },
    {
      "cell_type": "markdown",
      "metadata": {
        "id": "BRma9N4VwVw_"
      },
      "source": [
        "##### **Comparaciones**"
      ]
    },
    {
      "cell_type": "code",
      "execution_count": null,
      "metadata": {
        "id": "nX7ypF6_wVxA",
        "outputId": "12765bd7-9496-4296-83c7-d3ae1e5e1955"
      },
      "outputs": [
        {
          "data": {
            "text/plain": [
              "array([1, 2, 3, 4, 5])"
            ]
          },
          "execution_count": 121,
          "metadata": {},
          "output_type": "execute_result"
        }
      ],
      "source": [
        "u = np.arange(1, 6)\n",
        "u"
      ]
    },
    {
      "cell_type": "code",
      "execution_count": null,
      "metadata": {
        "id": "-SQDZeScwVxC",
        "outputId": "425a4f3f-c018-40e8-9567-29fe384c0052"
      },
      "outputs": [
        {
          "data": {
            "text/plain": [
              "array([False, False,  True, False, False])"
            ]
          },
          "execution_count": 122,
          "metadata": {},
          "output_type": "execute_result"
        }
      ],
      "source": [
        "u == 3"
      ]
    },
    {
      "cell_type": "code",
      "execution_count": null,
      "metadata": {
        "id": "uWJLRKzYwVxD",
        "outputId": "ee1f7f05-0420-44db-daa5-4938725e22cb"
      },
      "outputs": [
        {
          "data": {
            "text/plain": [
              "array([False, False,  True, False, False])"
            ]
          },
          "execution_count": 123,
          "metadata": {},
          "output_type": "execute_result"
        }
      ],
      "source": [
        "np.equal(u, 3) # Alternativa."
      ]
    },
    {
      "cell_type": "code",
      "execution_count": null,
      "metadata": {
        "id": "84Bb6qLzwVxE",
        "outputId": "6456c7d3-938b-4936-e347-b5296138eb5a"
      },
      "outputs": [
        {
          "data": {
            "text/plain": [
              "array([ True,  True, False,  True,  True])"
            ]
          },
          "execution_count": 124,
          "metadata": {},
          "output_type": "execute_result"
        }
      ],
      "source": [
        "u != 3 # Alternativa: np.not_equal()."
      ]
    },
    {
      "cell_type": "code",
      "execution_count": null,
      "metadata": {
        "id": "ycnOrh-EwVxF",
        "outputId": "f5a84847-4bab-4472-c75f-c673c6a34776"
      },
      "outputs": [
        {
          "data": {
            "text/plain": [
              "array([ True,  True, False, False, False])"
            ]
          },
          "execution_count": 125,
          "metadata": {},
          "output_type": "execute_result"
        }
      ],
      "source": [
        "u < 3 # Alternativa: np.less()."
      ]
    },
    {
      "cell_type": "code",
      "execution_count": null,
      "metadata": {
        "id": "VzUW1bo5wVxF",
        "outputId": "c9475fa6-0907-47a6-a085-4a4812ddf4ef"
      },
      "outputs": [
        {
          "data": {
            "text/plain": [
              "array([False, False, False,  True,  True])"
            ]
          },
          "execution_count": 126,
          "metadata": {},
          "output_type": "execute_result"
        }
      ],
      "source": [
        "u > 3 # Alternativa: np.greater()."
      ]
    },
    {
      "cell_type": "code",
      "execution_count": null,
      "metadata": {
        "id": "SqXG8jbUwVxF",
        "outputId": "6f613f76-eee0-4be7-fa2e-cf259a97f725"
      },
      "outputs": [
        {
          "data": {
            "text/plain": [
              "array([ True,  True,  True, False, False])"
            ]
          },
          "execution_count": 127,
          "metadata": {},
          "output_type": "execute_result"
        }
      ],
      "source": [
        "u <= 3 # Alternativa: np.less_equal()."
      ]
    },
    {
      "cell_type": "code",
      "execution_count": null,
      "metadata": {
        "id": "vyNoCu83wVxG",
        "outputId": "14c19d97-a5ac-479a-b4a2-adc1150d9bad"
      },
      "outputs": [
        {
          "data": {
            "text/plain": [
              "array([False, False,  True,  True,  True])"
            ]
          },
          "execution_count": 128,
          "metadata": {},
          "output_type": "execute_result"
        }
      ],
      "source": [
        "u >= 3 # Alternativa: np.greater_equal()."
      ]
    },
    {
      "cell_type": "code",
      "execution_count": null,
      "metadata": {
        "id": "UvAhtOZtwVxG",
        "outputId": "cf1798ab-3287-44e2-e62f-66a1bd331a43"
      },
      "outputs": [
        {
          "data": {
            "text/plain": [
              "3"
            ]
          },
          "execution_count": 129,
          "metadata": {},
          "output_type": "execute_result"
        }
      ],
      "source": [
        "np.count_nonzero(u >= 3)"
      ]
    },
    {
      "cell_type": "code",
      "execution_count": null,
      "metadata": {
        "id": "TPOdHxnewVxG",
        "outputId": "bfc06038-7dd9-4803-c065-473c3cb68cf4"
      },
      "outputs": [
        {
          "data": {
            "text/plain": [
              "3"
            ]
          },
          "execution_count": 130,
          "metadata": {},
          "output_type": "execute_result"
        }
      ],
      "source": [
        "np.sum(u >= 3) # Alternativa."
      ]
    },
    {
      "cell_type": "code",
      "execution_count": null,
      "metadata": {
        "id": "6nzla8kkwVxG",
        "outputId": "7ee72c32-a444-49c7-9d5f-40d1f5886999"
      },
      "outputs": [
        {
          "data": {
            "text/plain": [
              "2"
            ]
          },
          "execution_count": 131,
          "metadata": {},
          "output_type": "execute_result"
        }
      ],
      "source": [
        "np.sum((u >= 3) & (u <= 4)) # ¡No olvidarse los paréntesis!"
      ]
    },
    {
      "cell_type": "code",
      "execution_count": null,
      "metadata": {
        "id": "wp1d2y4GwVxH",
        "outputId": "6eee2053-1010-4ddf-af69-e9c04c766abc"
      },
      "outputs": [
        {
          "data": {
            "text/plain": [
              "2"
            ]
          },
          "execution_count": 132,
          "metadata": {},
          "output_type": "execute_result"
        }
      ],
      "source": [
        "np.sum(np.bitwise_and(u >= 3, u <= 4)) # Alternativa."
      ]
    },
    {
      "cell_type": "code",
      "execution_count": null,
      "metadata": {
        "id": "HHySagCMwVxI",
        "outputId": "8c46e8da-1aa4-4fe3-d5ad-48d1c65a6eb3"
      },
      "outputs": [
        {
          "data": {
            "text/plain": [
              "array([ True,  True, False, False,  True])"
            ]
          },
          "execution_count": 133,
          "metadata": {},
          "output_type": "execute_result"
        }
      ],
      "source": [
        "(u <= 2) | (u >= 5) # Alternativa: np.bitwise_or()."
      ]
    },
    {
      "cell_type": "markdown",
      "metadata": {
        "id": "REy4HbPYwVxI"
      },
      "source": [
        "Tener en cuenta que, para estas comparaciones, no funcionan los operadores `and` y `or`, sino que hay que usar `&` y `|`, respectivamente."
      ]
    },
    {
      "cell_type": "code",
      "execution_count": null,
      "metadata": {
        "id": "jNVL3xdUwVxI",
        "outputId": "16c09873-4d7c-459e-d1c6-0fb0cfeb997a"
      },
      "outputs": [
        {
          "data": {
            "text/plain": [
              "array([ True,  True, False, False,  True])"
            ]
          },
          "execution_count": 134,
          "metadata": {},
          "output_type": "execute_result"
        }
      ],
      "source": [
        "(u >= 3) ^ (u <= 4) # Alternativa: np.bitwise_xor()."
      ]
    },
    {
      "cell_type": "code",
      "execution_count": null,
      "metadata": {
        "id": "PoSYBqgXwVxL",
        "outputId": "725fe163-171f-4a13-e57f-3dfb10ff1744"
      },
      "outputs": [
        {
          "data": {
            "text/plain": [
              "array([ True,  True,  True, False, False])"
            ]
          },
          "execution_count": 135,
          "metadata": {},
          "output_type": "execute_result"
        }
      ],
      "source": [
        "~ (u > 3) # Alternativa: np.bitwise_not()."
      ]
    },
    {
      "cell_type": "markdown",
      "metadata": {
        "id": "RNYsu5XAwVxL"
      },
      "source": [
        "##### **Máscaras**"
      ]
    },
    {
      "cell_type": "code",
      "execution_count": null,
      "metadata": {
        "id": "cJypzfYxwVxM",
        "outputId": "64996cc2-3f41-4fa2-b9cd-9d0db3676e1a"
      },
      "outputs": [
        {
          "data": {
            "text/plain": [
              "array([1, 2, 3, 4, 5])"
            ]
          },
          "execution_count": 136,
          "metadata": {},
          "output_type": "execute_result"
        }
      ],
      "source": [
        "u"
      ]
    },
    {
      "cell_type": "code",
      "execution_count": null,
      "metadata": {
        "id": "0w3WOfdiwVxM",
        "outputId": "be1b7bfa-cf62-45cb-bf9b-0204dbfa861d"
      },
      "outputs": [
        {
          "data": {
            "text/plain": [
              "array([ True,  True, False, False, False])"
            ]
          },
          "execution_count": 137,
          "metadata": {},
          "output_type": "execute_result"
        }
      ],
      "source": [
        "u < 3"
      ]
    },
    {
      "cell_type": "code",
      "execution_count": null,
      "metadata": {
        "id": "jh93KV9gwVxM",
        "outputId": "3b2d1321-d5ff-40f4-b496-e15dc1263b9b"
      },
      "outputs": [
        {
          "data": {
            "text/plain": [
              "array([1, 2])"
            ]
          },
          "execution_count": 138,
          "metadata": {},
          "output_type": "execute_result"
        }
      ],
      "source": [
        "u[u < 3]"
      ]
    },
    {
      "cell_type": "code",
      "execution_count": null,
      "metadata": {
        "id": "630mbq9FwVxQ",
        "outputId": "ef6679e3-dd45-4c6e-8e0c-d6d7b6bf9630"
      },
      "outputs": [
        {
          "data": {
            "text/plain": [
              "array([4])"
            ]
          },
          "execution_count": 139,
          "metadata": {},
          "output_type": "execute_result"
        }
      ],
      "source": [
        "u[(u > 3) & (u < 5)]"
      ]
    },
    {
      "cell_type": "markdown",
      "metadata": {
        "id": "agehAFWewVxT"
      },
      "source": [
        "### **Indexación elegante**"
      ]
    },
    {
      "cell_type": "code",
      "execution_count": null,
      "metadata": {
        "id": "us1_aDD4wVxT",
        "outputId": "c671495b-0dc5-4e3f-a75a-b4f082a42469"
      },
      "outputs": [
        {
          "data": {
            "text/plain": [
              "array([1, 2, 3, 4, 5])"
            ]
          },
          "execution_count": 140,
          "metadata": {},
          "output_type": "execute_result"
        }
      ],
      "source": [
        "u"
      ]
    },
    {
      "cell_type": "code",
      "execution_count": null,
      "metadata": {
        "id": "njGzQUKOwVxU",
        "outputId": "7ef5edb7-f11c-427c-cc1c-4d897873bfa8"
      },
      "outputs": [
        {
          "data": {
            "text/plain": [
              "array([3, 5])"
            ]
          },
          "execution_count": 141,
          "metadata": {},
          "output_type": "execute_result"
        }
      ],
      "source": [
        "indices = [2, -1]\n",
        "u[indices]"
      ]
    },
    {
      "cell_type": "code",
      "execution_count": null,
      "metadata": {
        "id": "o1c_6AUzwVxU",
        "outputId": "e0f65dfe-0b65-4ee4-dad1-c55298d0d899"
      },
      "outputs": [
        {
          "data": {
            "text/plain": [
              "array([[2, 3, 4],\n",
              "       [4, 5, 6],\n",
              "       [6, 7, 8]])"
            ]
          },
          "execution_count": 142,
          "metadata": {},
          "output_type": "execute_result"
        }
      ],
      "source": [
        "matriz"
      ]
    },
    {
      "cell_type": "code",
      "execution_count": null,
      "metadata": {
        "id": "skqDBxjswVxV",
        "outputId": "44907788-d4c6-47a2-8737-71ad70161ed6"
      },
      "outputs": [
        {
          "data": {
            "text/plain": [
              "array([[2, 4]])"
            ]
          },
          "execution_count": 143,
          "metadata": {},
          "output_type": "execute_result"
        }
      ],
      "source": [
        "indices = [0, -1]\n",
        "matriz[:1, indices]"
      ]
    },
    {
      "cell_type": "markdown",
      "metadata": {
        "id": "_ph6zKyqwVxV"
      },
      "source": [
        "### **Ordenamiento de matrices**"
      ]
    },
    {
      "cell_type": "code",
      "execution_count": null,
      "metadata": {
        "id": "HqE3Cy6ZwVxV",
        "outputId": "e5dadf32-5eef-4c4d-f944-fd99a05bf702"
      },
      "outputs": [
        {
          "data": {
            "text/plain": [
              "array([1, 2, 3, 4, 5])"
            ]
          },
          "execution_count": 144,
          "metadata": {},
          "output_type": "execute_result"
        }
      ],
      "source": [
        "w = np.array([2, 1, 4, 3, 5])\n",
        "np.sort(w)"
      ]
    },
    {
      "cell_type": "code",
      "execution_count": null,
      "metadata": {
        "id": "IaZYCzxBwVxW",
        "outputId": "a8f25fcb-fcd2-47dd-895c-fe072c7f9c93"
      },
      "outputs": [
        {
          "data": {
            "text/plain": [
              "array([1, 0, 3, 2, 4])"
            ]
          },
          "execution_count": 145,
          "metadata": {},
          "output_type": "execute_result"
        }
      ],
      "source": [
        "np.argsort(w) # Devuelve las posiciones de los elementos ordenados."
      ]
    },
    {
      "cell_type": "code",
      "execution_count": null,
      "metadata": {
        "id": "7TWv3al_wVxW",
        "outputId": "a5bcbe3b-4848-45f2-87b6-df84d8d59841"
      },
      "outputs": [
        {
          "data": {
            "text/plain": [
              "array([1, 2, 3, 4, 5])"
            ]
          },
          "execution_count": 146,
          "metadata": {},
          "output_type": "execute_result"
        }
      ],
      "source": [
        "w[np.argsort(w)]"
      ]
    },
    {
      "cell_type": "code",
      "execution_count": null,
      "metadata": {
        "id": "04ZXyHARwVxW",
        "outputId": "70cf876e-828d-4ad4-9799-6586ecb0baee"
      },
      "outputs": [
        {
          "data": {
            "text/plain": [
              "array([[4, 2, 1],\n",
              "       [8, 6, 3]])"
            ]
          },
          "execution_count": 147,
          "metadata": {},
          "output_type": "execute_result"
        }
      ],
      "source": [
        "t = np.array([[4, 2, 3], [8, 6, 1]])\n",
        "np.sort(t, axis = 0) # Ordenamiento por columna."
      ]
    },
    {
      "cell_type": "code",
      "execution_count": null,
      "metadata": {
        "id": "-09emLk3wVxW",
        "outputId": "f65a420c-20fe-4bdf-c9d9-c814b703e45e"
      },
      "outputs": [
        {
          "data": {
            "text/plain": [
              "array([[2, 3, 4],\n",
              "       [1, 6, 8]])"
            ]
          },
          "execution_count": 148,
          "metadata": {},
          "output_type": "execute_result"
        }
      ],
      "source": [
        "np.sort(t, axis = 1) # Ordenamiento por fila."
      ]
    },
    {
      "cell_type": "markdown",
      "metadata": {
        "id": "MBpO0K21wVxX"
      },
      "source": [
        "### **Matrices estructuradas**"
      ]
    },
    {
      "cell_type": "code",
      "execution_count": null,
      "metadata": {
        "id": "moND-aGxwVxX"
      },
      "outputs": [],
      "source": [
        "nombres = ['Alice', 'Bob', 'Cathy', 'Doug']\n",
        "edades = [25, 45, 37, 19]\n",
        "pesos = [55.0, 85.5, 68.0, 61.5]"
      ]
    },
    {
      "cell_type": "code",
      "execution_count": null,
      "metadata": {
        "id": "iVrRnmoywVxX",
        "outputId": "70ddb984-e0d9-4811-8632-14475dbef58d"
      },
      "outputs": [
        {
          "data": {
            "text/plain": [
              "array([('', 0, 0.), ('', 0, 0.), ('', 0, 0.), ('', 0, 0.)],\n",
              "      dtype=[('nombre', '<U10'), ('edad', '<i4'), ('peso', '<f8')])"
            ]
          },
          "execution_count": 150,
          "metadata": {},
          "output_type": "execute_result"
        }
      ],
      "source": [
        "datos = np.zeros(4, dtype = {'names': ('nombre', 'edad', 'peso'), \\\n",
        "    'formats': ('U10', 'i4', 'f8')})\n",
        "\n",
        "# U10: Unicode string of maximum length 10.\n",
        "# i4: 4-byte integer.\n",
        "# f8: 8-byte float.\n",
        "\n",
        "datos"
      ]
    },
    {
      "cell_type": "code",
      "execution_count": null,
      "metadata": {
        "id": "c2UUkmqkwVxY",
        "outputId": "1f0a1c53-c480-4e7c-92e0-16ab33aa5801"
      },
      "outputs": [
        {
          "data": {
            "text/plain": [
              "array([('Alice', 25, 55. ), ('Bob', 45, 85.5), ('Cathy', 37, 68. ),\n",
              "       ('Doug', 19, 61.5)],\n",
              "      dtype=[('nombre', '<U10'), ('edad', '<i4'), ('peso', '<f8')])"
            ]
          },
          "execution_count": 151,
          "metadata": {},
          "output_type": "execute_result"
        }
      ],
      "source": [
        "datos['nombre'] = nombres\n",
        "datos['edad'] = edades\n",
        "datos['peso'] = pesos\n",
        "datos"
      ]
    },
    {
      "cell_type": "code",
      "execution_count": null,
      "metadata": {
        "id": "WXLqs2NHwVxY",
        "outputId": "72efa5a8-3422-4e5d-a08e-872f01fdc3a1"
      },
      "outputs": [
        {
          "data": {
            "text/plain": [
              "array(['Alice', 'Bob', 'Cathy', 'Doug'], dtype='<U10')"
            ]
          },
          "execution_count": 152,
          "metadata": {},
          "output_type": "execute_result"
        }
      ],
      "source": [
        "datos['nombre']"
      ]
    },
    {
      "cell_type": "code",
      "execution_count": null,
      "metadata": {
        "id": "ySG_RtI5wVxZ",
        "outputId": "ede9cef1-a5ce-49bc-ad84-a92e3429006a"
      },
      "outputs": [
        {
          "data": {
            "text/plain": [
              "('Alice', 25, 55.)"
            ]
          },
          "execution_count": 153,
          "metadata": {},
          "output_type": "execute_result"
        }
      ],
      "source": [
        "datos[0]"
      ]
    },
    {
      "cell_type": "code",
      "execution_count": null,
      "metadata": {
        "id": "Qr74ZjdmwVxZ",
        "outputId": "91b5dd9b-7f85-4912-bc96-ff6cdd3ae53a"
      },
      "outputs": [
        {
          "data": {
            "text/plain": [
              "25"
            ]
          },
          "execution_count": 154,
          "metadata": {},
          "output_type": "execute_result"
        }
      ],
      "source": [
        "datos[0]['edad']"
      ]
    },
    {
      "cell_type": "code",
      "execution_count": null,
      "metadata": {
        "id": "y4j0TBtkwVxa",
        "outputId": "661a2468-ccce-428b-b3ef-6f4662d3d0a0"
      },
      "outputs": [
        {
          "data": {
            "text/plain": [
              "array(['Alice', 'Doug'], dtype='<U10')"
            ]
          },
          "execution_count": 155,
          "metadata": {},
          "output_type": "execute_result"
        }
      ],
      "source": [
        "datos[datos['edad'] < 30]['nombre'] # Devuelve los nombres de las personas cuya edad es menor a 30."
      ]
    }
  ],
  "metadata": {
    "kernelspec": {
      "display_name": "base",
      "language": "python",
      "name": "python3"
    },
    "language_info": {
      "codemirror_mode": {
        "name": "ipython",
        "version": 3
      },
      "file_extension": ".py",
      "mimetype": "text/x-python",
      "name": "python",
      "nbconvert_exporter": "python",
      "pygments_lexer": "ipython3",
      "version": "3.9.13"
    },
    "orig_nbformat": 4,
    "colab": {
      "provenance": []
    }
  },
  "nbformat": 4,
  "nbformat_minor": 0
}