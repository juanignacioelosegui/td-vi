{
  "cells": [
    {
      "cell_type": "markdown",
      "metadata": {
        "id": "9itmaWZyH8J6"
      },
      "source": [
        "Universidad Torcuato Di Tella\n",
        "\n",
        "Licenciatura en Tecnología Digital\\\n",
        "**Tecnología Digital VI: Inteligencia Artificial**"
      ]
    },
    {
      "cell_type": "markdown",
      "metadata": {
        "id": "NiawJq8dNaoO"
      },
      "source": [
        "# **Árboles de decisión**"
      ]
    },
    {
      "cell_type": "code",
      "execution_count": 1,
      "metadata": {
        "id": "78peu0MzNdfM"
      },
      "outputs": [],
      "source": [
        "import pandas as pd\n",
        "\n",
        "X_train = pd.read_csv('X_train.csv')\n",
        "y_train = pd.read_csv('y_train.csv')\n",
        "\n",
        "X_test = pd.read_csv('X_test.csv')\n",
        "y_test = pd.read_csv('y_test.csv')"
      ]
    },
    {
      "cell_type": "code",
      "execution_count": 3,
      "metadata": {
        "colab": {
          "base_uri": "https://localhost:8080/"
        },
        "id": "-D5a5Uzhe47V",
        "outputId": "470243a8-6f0a-4a9a-8e29-f58db499270b"
      },
      "outputs": [
        {
          "name": "stdout",
          "output_type": "stream",
          "text": [
            "Score sobre el conjunto de entrenamiento: 1.00.\n",
            "Score sobre el conjunto de evaluación: 0.94.\n"
          ]
        }
      ],
      "source": [
        "from sklearn.tree import DecisionTreeClassifier\n",
        "\n",
        "tree = DecisionTreeClassifier(random_state = 22) # Creación de una instancia.\n",
        "tree.fit(X_train, y_train)                       # Entrenamiento del modelo.\n",
        "predictions = tree.predict(X_test)               # Predicción para las observaciones.\n",
        "\n",
        "print(f'Score sobre el conjunto de entrenamiento: {tree.score(X_train, y_train):.2f}.')\n",
        "print(f'Score sobre el conjunto de evaluación: {tree.score(X_test, y_test):.2f}.')"
      ]
    },
    {
      "cell_type": "markdown",
      "metadata": {
        "id": "cZ09kOPEh5PF"
      },
      "source": [
        "Cuando definimos el modelo, tenemos la posibilidad de definir **hiperparámetros** que van a modificar la *performance*.\n",
        "\n",
        "En la celda de arriba, al crear la instancia, no definimos ninguno, por lo cual se construye el modelo con los valores por defecto.\n",
        "\n",
        "Veamos qué hiperparámetros podemos definir en este caso, mirando la [documentación oficial](https://scikit-learn.org/stable/modules/generated/sklearn.tree.DecisionTreeClassifier.html) correspondiente."
      ]
    }
  ],
  "metadata": {
    "colab": {
      "provenance": []
    },
    "kernelspec": {
      "display_name": "Python 3",
      "name": "python3"
    },
    "language_info": {
      "codemirror_mode": {
        "name": "ipython",
        "version": 3
      },
      "file_extension": ".py",
      "mimetype": "text/x-python",
      "name": "python",
      "nbconvert_exporter": "python",
      "pygments_lexer": "ipython3",
      "version": "3.9.13"
    }
  },
  "nbformat": 4,
  "nbformat_minor": 0
}
